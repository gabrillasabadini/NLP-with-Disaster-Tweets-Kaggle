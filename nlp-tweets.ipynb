{
 "cells": [
  {
   "cell_type": "code",
   "execution_count": 1,
   "metadata": {
    "_cell_guid": "b1076dfc-b9ad-4769-8c92-a6c4dae69d19",
    "_uuid": "8f2839f25d086af736a60e9eeb907d3b93b6e0e5",
    "execution": {
     "iopub.execute_input": "2023-06-29T12:51:35.497741Z",
     "iopub.status.busy": "2023-06-29T12:51:35.497268Z",
     "iopub.status.idle": "2023-06-29T12:51:35.506235Z",
     "shell.execute_reply": "2023-06-29T12:51:35.505095Z",
     "shell.execute_reply.started": "2023-06-29T12:51:35.497709Z"
    }
   },
   "outputs": [],
   "source": [
    "# This Python 3 environment comes with many helpful analytics libraries installed\n",
    "# It is defined by the kaggle/python Docker image: https://github.com/kaggle/docker-python\n",
    "# For example, here's several helpful packages to load\n",
    "\n",
    "import numpy as np # linear algebra\n",
    "import pandas as pd # data processing, CSV file I/O (e.g. pd.read_csv)\n",
    "\n",
    "# Input data files are available in the read-only \"../input/\" directory\n",
    "# For example, running this (by clicking run or pressing Shift+Enter) will list all files under the input directory\n",
    "\n",
    "import os\n",
    "for dirname, _, filenames in os.walk('/kaggle/input'):\n",
    "    for filename in filenames:\n",
    "        print(os.path.join(dirname, filename))\n",
    "\n",
    "# You can write up to 20GB to the current directory (/kaggle/working/) that gets preserved as output when you create a version using \"Save & Run All\" \n",
    "# You can also write temporary files to /kaggle/temp/, but they won't be saved outside of the current session"
   ]
  },
  {
   "cell_type": "markdown",
   "metadata": {},
   "source": [
    "# Natural Language Processing with Disaster Tweets\n",
    "​\n",
    "​\n",
    "Predict which Tweets are about real disasters and which ones are not\n",
    "## What should I expect the data format to be?\n",
    "Each sample in the train and test set has the following information:\n",
    "\n",
    "The text of a tweet\n",
    "\n",
    "* A keyword from that tweet (although this may be blank!)\n",
    "* The location the tweet was sent from (may also be blank) \n",
    "## What am I predicting?\n",
    "* You are predicting whether a given tweet is about a real disaster or not. If so, predict a 1. If not, predict a 0.\n",
    "### Columns\n",
    "\n",
    "* id - a unique identifier for each tweet\n",
    "* text - the text of the tweet\n",
    "* location - the location the tweet was sent from (may be blank)\n",
    "* keyword - a particular keyword from the tweet (may be blank)\n",
    "* target - in train.csv only, this denotes whether a tweet is about a real disaster (1) or not (0)"
   ]
  },
  {
   "cell_type": "markdown",
   "metadata": {},
   "source": [
    "# Import the libraries"
   ]
  },
  {
   "cell_type": "code",
   "execution_count": 2,
   "metadata": {
    "execution": {
     "iopub.execute_input": "2023-06-29T13:43:33.457847Z",
     "iopub.status.busy": "2023-06-29T13:43:33.456336Z",
     "iopub.status.idle": "2023-06-29T13:43:33.463513Z",
     "shell.execute_reply": "2023-06-29T13:43:33.462539Z",
     "shell.execute_reply.started": "2023-06-29T13:43:33.457794Z"
    }
   },
   "outputs": [],
   "source": [
    "import pandas as pd\n",
    "import numpy as np\n",
    "import matplotlib.pyplot as plt\n",
    "import seaborn as sns\n",
    "\n",
    "import warnings\n",
    "warnings.filterwarnings(\"ignore\")"
   ]
  },
  {
   "cell_type": "code",
   "execution_count": 3,
   "metadata": {
    "execution": {
     "iopub.execute_input": "2023-06-29T13:43:33.745966Z",
     "iopub.status.busy": "2023-06-29T13:43:33.745256Z",
     "iopub.status.idle": "2023-06-29T13:43:33.750091Z",
     "shell.execute_reply": "2023-06-29T13:43:33.749215Z",
     "shell.execute_reply.started": "2023-06-29T13:43:33.745930Z"
    }
   },
   "outputs": [],
   "source": [
    "plt.rcParams['figure.figsize']=[15,8]"
   ]
  },
  {
   "cell_type": "markdown",
   "metadata": {},
   "source": [
    "# Read the train and test datasets"
   ]
  },
  {
   "cell_type": "code",
   "execution_count": 5,
   "metadata": {
    "execution": {
     "iopub.execute_input": "2023-06-29T13:43:35.039220Z",
     "iopub.status.busy": "2023-06-29T13:43:35.038492Z",
     "iopub.status.idle": "2023-06-29T13:43:35.084793Z",
     "shell.execute_reply": "2023-06-29T13:43:35.083455Z",
     "shell.execute_reply.started": "2023-06-29T13:43:35.039179Z"
    }
   },
   "outputs": [
    {
     "data": {
      "text/html": [
       "<div>\n",
       "<style scoped>\n",
       "    .dataframe tbody tr th:only-of-type {\n",
       "        vertical-align: middle;\n",
       "    }\n",
       "\n",
       "    .dataframe tbody tr th {\n",
       "        vertical-align: top;\n",
       "    }\n",
       "\n",
       "    .dataframe thead th {\n",
       "        text-align: right;\n",
       "    }\n",
       "</style>\n",
       "<table border=\"1\" class=\"dataframe\">\n",
       "  <thead>\n",
       "    <tr style=\"text-align: right;\">\n",
       "      <th></th>\n",
       "      <th>id</th>\n",
       "      <th>keyword</th>\n",
       "      <th>location</th>\n",
       "      <th>text</th>\n",
       "      <th>target</th>\n",
       "    </tr>\n",
       "  </thead>\n",
       "  <tbody>\n",
       "    <tr>\n",
       "      <th>0</th>\n",
       "      <td>1</td>\n",
       "      <td>NaN</td>\n",
       "      <td>NaN</td>\n",
       "      <td>Our Deeds are the Reason of this #earthquake M...</td>\n",
       "      <td>1</td>\n",
       "    </tr>\n",
       "    <tr>\n",
       "      <th>1</th>\n",
       "      <td>4</td>\n",
       "      <td>NaN</td>\n",
       "      <td>NaN</td>\n",
       "      <td>Forest fire near La Ronge Sask. Canada</td>\n",
       "      <td>1</td>\n",
       "    </tr>\n",
       "    <tr>\n",
       "      <th>2</th>\n",
       "      <td>5</td>\n",
       "      <td>NaN</td>\n",
       "      <td>NaN</td>\n",
       "      <td>All residents asked to 'shelter in place' are ...</td>\n",
       "      <td>1</td>\n",
       "    </tr>\n",
       "    <tr>\n",
       "      <th>3</th>\n",
       "      <td>6</td>\n",
       "      <td>NaN</td>\n",
       "      <td>NaN</td>\n",
       "      <td>13,000 people receive #wildfires evacuation or...</td>\n",
       "      <td>1</td>\n",
       "    </tr>\n",
       "    <tr>\n",
       "      <th>4</th>\n",
       "      <td>7</td>\n",
       "      <td>NaN</td>\n",
       "      <td>NaN</td>\n",
       "      <td>Just got sent this photo from Ruby #Alaska as ...</td>\n",
       "      <td>1</td>\n",
       "    </tr>\n",
       "    <tr>\n",
       "      <th>...</th>\n",
       "      <td>...</td>\n",
       "      <td>...</td>\n",
       "      <td>...</td>\n",
       "      <td>...</td>\n",
       "      <td>...</td>\n",
       "    </tr>\n",
       "    <tr>\n",
       "      <th>7608</th>\n",
       "      <td>10869</td>\n",
       "      <td>NaN</td>\n",
       "      <td>NaN</td>\n",
       "      <td>Two giant cranes holding a bridge collapse int...</td>\n",
       "      <td>1</td>\n",
       "    </tr>\n",
       "    <tr>\n",
       "      <th>7609</th>\n",
       "      <td>10870</td>\n",
       "      <td>NaN</td>\n",
       "      <td>NaN</td>\n",
       "      <td>@aria_ahrary @TheTawniest The out of control w...</td>\n",
       "      <td>1</td>\n",
       "    </tr>\n",
       "    <tr>\n",
       "      <th>7610</th>\n",
       "      <td>10871</td>\n",
       "      <td>NaN</td>\n",
       "      <td>NaN</td>\n",
       "      <td>M1.94 [01:04 UTC]?5km S of Volcano Hawaii. htt...</td>\n",
       "      <td>1</td>\n",
       "    </tr>\n",
       "    <tr>\n",
       "      <th>7611</th>\n",
       "      <td>10872</td>\n",
       "      <td>NaN</td>\n",
       "      <td>NaN</td>\n",
       "      <td>Police investigating after an e-bike collided ...</td>\n",
       "      <td>1</td>\n",
       "    </tr>\n",
       "    <tr>\n",
       "      <th>7612</th>\n",
       "      <td>10873</td>\n",
       "      <td>NaN</td>\n",
       "      <td>NaN</td>\n",
       "      <td>The Latest: More Homes Razed by Northern Calif...</td>\n",
       "      <td>1</td>\n",
       "    </tr>\n",
       "  </tbody>\n",
       "</table>\n",
       "<p>7613 rows × 5 columns</p>\n",
       "</div>"
      ],
      "text/plain": [
       "         id keyword location  \\\n",
       "0         1     NaN      NaN   \n",
       "1         4     NaN      NaN   \n",
       "2         5     NaN      NaN   \n",
       "3         6     NaN      NaN   \n",
       "4         7     NaN      NaN   \n",
       "...     ...     ...      ...   \n",
       "7608  10869     NaN      NaN   \n",
       "7609  10870     NaN      NaN   \n",
       "7610  10871     NaN      NaN   \n",
       "7611  10872     NaN      NaN   \n",
       "7612  10873     NaN      NaN   \n",
       "\n",
       "                                                   text  target  \n",
       "0     Our Deeds are the Reason of this #earthquake M...       1  \n",
       "1                Forest fire near La Ronge Sask. Canada       1  \n",
       "2     All residents asked to 'shelter in place' are ...       1  \n",
       "3     13,000 people receive #wildfires evacuation or...       1  \n",
       "4     Just got sent this photo from Ruby #Alaska as ...       1  \n",
       "...                                                 ...     ...  \n",
       "7608  Two giant cranes holding a bridge collapse int...       1  \n",
       "7609  @aria_ahrary @TheTawniest The out of control w...       1  \n",
       "7610  M1.94 [01:04 UTC]?5km S of Volcano Hawaii. htt...       1  \n",
       "7611  Police investigating after an e-bike collided ...       1  \n",
       "7612  The Latest: More Homes Razed by Northern Calif...       1  \n",
       "\n",
       "[7613 rows x 5 columns]"
      ]
     },
     "execution_count": 5,
     "metadata": {},
     "output_type": "execute_result"
    }
   ],
   "source": [
    "train = pd.read_csv('train.csv')\n",
    "train"
   ]
  },
  {
   "cell_type": "code",
   "execution_count": 9,
   "metadata": {
    "execution": {
     "iopub.execute_input": "2023-06-29T13:43:35.902435Z",
     "iopub.status.busy": "2023-06-29T13:43:35.901989Z",
     "iopub.status.idle": "2023-06-29T13:43:35.933188Z",
     "shell.execute_reply": "2023-06-29T13:43:35.932295Z",
     "shell.execute_reply.started": "2023-06-29T13:43:35.902402Z"
    }
   },
   "outputs": [
    {
     "data": {
      "text/html": [
       "<div>\n",
       "<style scoped>\n",
       "    .dataframe tbody tr th:only-of-type {\n",
       "        vertical-align: middle;\n",
       "    }\n",
       "\n",
       "    .dataframe tbody tr th {\n",
       "        vertical-align: top;\n",
       "    }\n",
       "\n",
       "    .dataframe thead th {\n",
       "        text-align: right;\n",
       "    }\n",
       "</style>\n",
       "<table border=\"1\" class=\"dataframe\">\n",
       "  <thead>\n",
       "    <tr style=\"text-align: right;\">\n",
       "      <th></th>\n",
       "      <th>id</th>\n",
       "      <th>keyword</th>\n",
       "      <th>location</th>\n",
       "      <th>text</th>\n",
       "    </tr>\n",
       "  </thead>\n",
       "  <tbody>\n",
       "    <tr>\n",
       "      <th>0</th>\n",
       "      <td>0</td>\n",
       "      <td>NaN</td>\n",
       "      <td>NaN</td>\n",
       "      <td>Just happened a terrible car crash</td>\n",
       "    </tr>\n",
       "    <tr>\n",
       "      <th>1</th>\n",
       "      <td>2</td>\n",
       "      <td>NaN</td>\n",
       "      <td>NaN</td>\n",
       "      <td>Heard about #earthquake is different cities, s...</td>\n",
       "    </tr>\n",
       "    <tr>\n",
       "      <th>2</th>\n",
       "      <td>3</td>\n",
       "      <td>NaN</td>\n",
       "      <td>NaN</td>\n",
       "      <td>there is a forest fire at spot pond, geese are...</td>\n",
       "    </tr>\n",
       "    <tr>\n",
       "      <th>3</th>\n",
       "      <td>9</td>\n",
       "      <td>NaN</td>\n",
       "      <td>NaN</td>\n",
       "      <td>Apocalypse lighting. #Spokane #wildfires</td>\n",
       "    </tr>\n",
       "    <tr>\n",
       "      <th>4</th>\n",
       "      <td>11</td>\n",
       "      <td>NaN</td>\n",
       "      <td>NaN</td>\n",
       "      <td>Typhoon Soudelor kills 28 in China and Taiwan</td>\n",
       "    </tr>\n",
       "    <tr>\n",
       "      <th>...</th>\n",
       "      <td>...</td>\n",
       "      <td>...</td>\n",
       "      <td>...</td>\n",
       "      <td>...</td>\n",
       "    </tr>\n",
       "    <tr>\n",
       "      <th>3258</th>\n",
       "      <td>10861</td>\n",
       "      <td>NaN</td>\n",
       "      <td>NaN</td>\n",
       "      <td>EARTHQUAKE SAFETY LOS ANGELES ÛÒ SAFETY FASTE...</td>\n",
       "    </tr>\n",
       "    <tr>\n",
       "      <th>3259</th>\n",
       "      <td>10865</td>\n",
       "      <td>NaN</td>\n",
       "      <td>NaN</td>\n",
       "      <td>Storm in RI worse than last hurricane. My city...</td>\n",
       "    </tr>\n",
       "    <tr>\n",
       "      <th>3260</th>\n",
       "      <td>10868</td>\n",
       "      <td>NaN</td>\n",
       "      <td>NaN</td>\n",
       "      <td>Green Line derailment in Chicago http://t.co/U...</td>\n",
       "    </tr>\n",
       "    <tr>\n",
       "      <th>3261</th>\n",
       "      <td>10874</td>\n",
       "      <td>NaN</td>\n",
       "      <td>NaN</td>\n",
       "      <td>MEG issues Hazardous Weather Outlook (HWO) htt...</td>\n",
       "    </tr>\n",
       "    <tr>\n",
       "      <th>3262</th>\n",
       "      <td>10875</td>\n",
       "      <td>NaN</td>\n",
       "      <td>NaN</td>\n",
       "      <td>#CityofCalgary has activated its Municipal Eme...</td>\n",
       "    </tr>\n",
       "  </tbody>\n",
       "</table>\n",
       "<p>3263 rows × 4 columns</p>\n",
       "</div>"
      ],
      "text/plain": [
       "         id keyword location  \\\n",
       "0         0     NaN      NaN   \n",
       "1         2     NaN      NaN   \n",
       "2         3     NaN      NaN   \n",
       "3         9     NaN      NaN   \n",
       "4        11     NaN      NaN   \n",
       "...     ...     ...      ...   \n",
       "3258  10861     NaN      NaN   \n",
       "3259  10865     NaN      NaN   \n",
       "3260  10868     NaN      NaN   \n",
       "3261  10874     NaN      NaN   \n",
       "3262  10875     NaN      NaN   \n",
       "\n",
       "                                                   text  \n",
       "0                    Just happened a terrible car crash  \n",
       "1     Heard about #earthquake is different cities, s...  \n",
       "2     there is a forest fire at spot pond, geese are...  \n",
       "3              Apocalypse lighting. #Spokane #wildfires  \n",
       "4         Typhoon Soudelor kills 28 in China and Taiwan  \n",
       "...                                                 ...  \n",
       "3258  EARTHQUAKE SAFETY LOS ANGELES ÛÒ SAFETY FASTE...  \n",
       "3259  Storm in RI worse than last hurricane. My city...  \n",
       "3260  Green Line derailment in Chicago http://t.co/U...  \n",
       "3261  MEG issues Hazardous Weather Outlook (HWO) htt...  \n",
       "3262  #CityofCalgary has activated its Municipal Eme...  \n",
       "\n",
       "[3263 rows x 4 columns]"
      ]
     },
     "execution_count": 9,
     "metadata": {},
     "output_type": "execute_result"
    }
   ],
   "source": [
    "test = pd.read_csv('test.csv')\n",
    "test"
   ]
  },
  {
   "cell_type": "markdown",
   "metadata": {},
   "source": [
    "# Basic analysis on train and test datasets:"
   ]
  },
  {
   "cell_type": "code",
   "execution_count": 10,
   "metadata": {
    "execution": {
     "iopub.execute_input": "2023-06-29T13:43:36.508920Z",
     "iopub.status.busy": "2023-06-29T13:43:36.508442Z",
     "iopub.status.idle": "2023-06-29T13:43:36.516442Z",
     "shell.execute_reply": "2023-06-29T13:43:36.515427Z",
     "shell.execute_reply.started": "2023-06-29T13:43:36.508884Z"
    }
   },
   "outputs": [
    {
     "data": {
      "text/plain": [
       "(7613, 5)"
      ]
     },
     "execution_count": 10,
     "metadata": {},
     "output_type": "execute_result"
    }
   ],
   "source": [
    "train.shape"
   ]
  },
  {
   "cell_type": "code",
   "execution_count": 11,
   "metadata": {
    "execution": {
     "iopub.execute_input": "2023-06-29T13:43:36.870150Z",
     "iopub.status.busy": "2023-06-29T13:43:36.869349Z",
     "iopub.status.idle": "2023-06-29T13:43:36.878955Z",
     "shell.execute_reply": "2023-06-29T13:43:36.877539Z",
     "shell.execute_reply.started": "2023-06-29T13:43:36.870088Z"
    }
   },
   "outputs": [
    {
     "data": {
      "text/plain": [
       "(3263, 4)"
      ]
     },
     "execution_count": 11,
     "metadata": {},
     "output_type": "execute_result"
    }
   ],
   "source": [
    "test.shape"
   ]
  },
  {
   "cell_type": "code",
   "execution_count": 12,
   "metadata": {
    "execution": {
     "iopub.execute_input": "2023-06-29T13:43:37.342791Z",
     "iopub.status.busy": "2023-06-29T13:43:37.342340Z",
     "iopub.status.idle": "2023-06-29T13:43:37.366500Z",
     "shell.execute_reply": "2023-06-29T13:43:37.364751Z",
     "shell.execute_reply.started": "2023-06-29T13:43:37.342759Z"
    }
   },
   "outputs": [
    {
     "name": "stdout",
     "output_type": "stream",
     "text": [
      "<class 'pandas.core.frame.DataFrame'>\n",
      "RangeIndex: 7613 entries, 0 to 7612\n",
      "Data columns (total 5 columns):\n",
      " #   Column    Non-Null Count  Dtype \n",
      "---  ------    --------------  ----- \n",
      " 0   id        7613 non-null   int64 \n",
      " 1   keyword   7552 non-null   object\n",
      " 2   location  5080 non-null   object\n",
      " 3   text      7613 non-null   object\n",
      " 4   target    7613 non-null   int64 \n",
      "dtypes: int64(2), object(3)\n",
      "memory usage: 297.5+ KB\n"
     ]
    }
   ],
   "source": [
    "train.info()"
   ]
  },
  {
   "cell_type": "code",
   "execution_count": 13,
   "metadata": {
    "execution": {
     "iopub.execute_input": "2023-06-29T13:43:37.900786Z",
     "iopub.status.busy": "2023-06-29T13:43:37.900297Z",
     "iopub.status.idle": "2023-06-29T13:43:37.920405Z",
     "shell.execute_reply": "2023-06-29T13:43:37.918840Z",
     "shell.execute_reply.started": "2023-06-29T13:43:37.900748Z"
    }
   },
   "outputs": [
    {
     "name": "stdout",
     "output_type": "stream",
     "text": [
      "<class 'pandas.core.frame.DataFrame'>\n",
      "RangeIndex: 3263 entries, 0 to 3262\n",
      "Data columns (total 4 columns):\n",
      " #   Column    Non-Null Count  Dtype \n",
      "---  ------    --------------  ----- \n",
      " 0   id        3263 non-null   int64 \n",
      " 1   keyword   3237 non-null   object\n",
      " 2   location  2158 non-null   object\n",
      " 3   text      3263 non-null   object\n",
      "dtypes: int64(1), object(3)\n",
      "memory usage: 102.1+ KB\n"
     ]
    }
   ],
   "source": [
    "test.info()"
   ]
  },
  {
   "cell_type": "code",
   "execution_count": 14,
   "metadata": {
    "execution": {
     "iopub.execute_input": "2023-06-29T13:43:38.766554Z",
     "iopub.status.busy": "2023-06-29T13:43:38.766063Z",
     "iopub.status.idle": "2023-06-29T13:43:38.775350Z",
     "shell.execute_reply": "2023-06-29T13:43:38.773673Z",
     "shell.execute_reply.started": "2023-06-29T13:43:38.766519Z"
    }
   },
   "outputs": [
    {
     "name": "stdout",
     "output_type": "stream",
     "text": [
      "38065\n",
      "13052\n"
     ]
    }
   ],
   "source": [
    "print(train.size)\n",
    "print(test.size)"
   ]
  },
  {
   "cell_type": "code",
   "execution_count": 15,
   "metadata": {
    "execution": {
     "iopub.execute_input": "2023-06-29T13:43:40.187257Z",
     "iopub.status.busy": "2023-06-29T13:43:40.186786Z",
     "iopub.status.idle": "2023-06-29T13:43:40.195217Z",
     "shell.execute_reply": "2023-06-29T13:43:40.194248Z",
     "shell.execute_reply.started": "2023-06-29T13:43:40.187222Z"
    }
   },
   "outputs": [
    {
     "data": {
      "text/plain": [
       "Index(['id', 'keyword', 'location', 'text', 'target'], dtype='object')"
      ]
     },
     "execution_count": 15,
     "metadata": {},
     "output_type": "execute_result"
    }
   ],
   "source": [
    "train.columns"
   ]
  },
  {
   "cell_type": "code",
   "execution_count": 16,
   "metadata": {
    "execution": {
     "iopub.execute_input": "2023-06-29T13:43:40.473228Z",
     "iopub.status.busy": "2023-06-29T13:43:40.472530Z",
     "iopub.status.idle": "2023-06-29T13:43:40.482640Z",
     "shell.execute_reply": "2023-06-29T13:43:40.481090Z",
     "shell.execute_reply.started": "2023-06-29T13:43:40.473179Z"
    }
   },
   "outputs": [
    {
     "data": {
      "text/plain": [
       "Index(['id', 'keyword', 'location', 'text'], dtype='object')"
      ]
     },
     "execution_count": 16,
     "metadata": {},
     "output_type": "execute_result"
    }
   ],
   "source": [
    "test.columns"
   ]
  },
  {
   "cell_type": "code",
   "execution_count": null,
   "metadata": {},
   "outputs": [],
   "source": []
  },
  {
   "cell_type": "markdown",
   "metadata": {},
   "source": [
    "# Cleaning the train and test datasets:"
   ]
  },
  {
   "cell_type": "code",
   "execution_count": 17,
   "metadata": {
    "execution": {
     "iopub.execute_input": "2023-06-29T13:43:41.076987Z",
     "iopub.status.busy": "2023-06-29T13:43:41.076489Z",
     "iopub.status.idle": "2023-06-29T13:43:41.095867Z",
     "shell.execute_reply": "2023-06-29T13:43:41.094555Z",
     "shell.execute_reply.started": "2023-06-29T13:43:41.076941Z"
    }
   },
   "outputs": [
    {
     "name": "stdout",
     "output_type": "stream",
     "text": [
      "Pencentage of missing values in train dataset \n",
      " id           0.000000\n",
      "keyword      0.801261\n",
      "location    33.272035\n",
      "text         0.000000\n",
      "target       0.000000\n",
      "dtype: float64\n"
     ]
    }
   ],
   "source": [
    "print('Pencentage of missing values in train dataset \\n',train.isna().sum() / len(train)*100)"
   ]
  },
  {
   "cell_type": "code",
   "execution_count": 18,
   "metadata": {
    "execution": {
     "iopub.execute_input": "2023-06-29T13:43:41.267421Z",
     "iopub.status.busy": "2023-06-29T13:43:41.266923Z",
     "iopub.status.idle": "2023-06-29T13:43:41.281412Z",
     "shell.execute_reply": "2023-06-29T13:43:41.280171Z",
     "shell.execute_reply.started": "2023-06-29T13:43:41.267383Z"
    }
   },
   "outputs": [
    {
     "name": "stdout",
     "output_type": "stream",
     "text": [
      "Pencentage of missing values in test dataset \n",
      " id           0.000000\n",
      "keyword      0.341521\n",
      "location    14.514646\n",
      "text         0.000000\n",
      "dtype: float64\n"
     ]
    }
   ],
   "source": [
    "print('Pencentage of missing values in test dataset \\n',test.isna().sum() / len(train)*100)"
   ]
  },
  {
   "cell_type": "code",
   "execution_count": 19,
   "metadata": {
    "execution": {
     "iopub.execute_input": "2023-06-29T13:43:41.523728Z",
     "iopub.status.busy": "2023-06-29T13:43:41.523255Z",
     "iopub.status.idle": "2023-06-29T13:43:41.543749Z",
     "shell.execute_reply": "2023-06-29T13:43:41.542649Z",
     "shell.execute_reply.started": "2023-06-29T13:43:41.523690Z"
    }
   },
   "outputs": [],
   "source": [
    "train.fillna(\"0\", inplace=True)\n",
    "test.fillna(\"0\", inplace=True)"
   ]
  },
  {
   "cell_type": "markdown",
   "metadata": {},
   "source": [
    "# Exploratory Data Analysis \n",
    "##### (Target column in Train dataset)"
   ]
  },
  {
   "cell_type": "code",
   "execution_count": 20,
   "metadata": {
    "execution": {
     "iopub.execute_input": "2023-06-29T13:43:42.816542Z",
     "iopub.status.busy": "2023-06-29T13:43:42.816150Z",
     "iopub.status.idle": "2023-06-29T13:43:42.826353Z",
     "shell.execute_reply": "2023-06-29T13:43:42.824703Z",
     "shell.execute_reply.started": "2023-06-29T13:43:42.816511Z"
    }
   },
   "outputs": [
    {
     "data": {
      "text/plain": [
       "array([1, 0], dtype=int64)"
      ]
     },
     "execution_count": 20,
     "metadata": {},
     "output_type": "execute_result"
    }
   ],
   "source": [
    "train['target'].unique()"
   ]
  },
  {
   "cell_type": "code",
   "execution_count": 21,
   "metadata": {
    "execution": {
     "iopub.execute_input": "2023-06-29T13:43:42.999995Z",
     "iopub.status.busy": "2023-06-29T13:43:42.999541Z",
     "iopub.status.idle": "2023-06-29T13:43:43.009970Z",
     "shell.execute_reply": "2023-06-29T13:43:43.008999Z",
     "shell.execute_reply.started": "2023-06-29T13:43:42.999962Z"
    }
   },
   "outputs": [
    {
     "data": {
      "text/plain": [
       "0    4342\n",
       "1    3271\n",
       "Name: target, dtype: int64"
      ]
     },
     "execution_count": 21,
     "metadata": {},
     "output_type": "execute_result"
    }
   ],
   "source": [
    "x=train['target'].value_counts()\n",
    "x"
   ]
  },
  {
   "cell_type": "code",
   "execution_count": 22,
   "metadata": {
    "execution": {
     "iopub.execute_input": "2023-06-29T13:43:43.186421Z",
     "iopub.status.busy": "2023-06-29T13:43:43.185964Z",
     "iopub.status.idle": "2023-06-29T13:43:43.455072Z",
     "shell.execute_reply": "2023-06-29T13:43:43.453530Z",
     "shell.execute_reply.started": "2023-06-29T13:43:43.186385Z"
    }
   },
   "outputs": [
    {
     "data": {
      "image/png": "[encoded data removed]",
      "text/plain": [
       "<Figure size 1500x800 with 1 Axes>"
      ]
     },
     "metadata": {},
     "output_type": "display_data"
    }
   ],
   "source": [
    "sns.barplot(x = x.index, y = x)\n",
    "plt.show()"
   ]
  },
  {
   "cell_type": "markdown",
   "metadata": {},
   "source": [
    "# Text Preprocessing:"
   ]
  },
  {
   "cell_type": "code",
   "execution_count": 23,
   "metadata": {
    "execution": {
     "iopub.execute_input": "2023-06-29T13:43:43.658038Z",
     "iopub.status.busy": "2023-06-29T13:43:43.657616Z",
     "iopub.status.idle": "2023-06-29T13:43:43.665926Z",
     "shell.execute_reply": "2023-06-29T13:43:43.664243Z",
     "shell.execute_reply.started": "2023-06-29T13:43:43.658006Z"
    }
   },
   "outputs": [],
   "source": [
    "import re,string\n",
    "import nltk\n",
    "from nltk.tokenize import word_tokenize,WordPunctTokenizer\n",
    "from nltk.corpus import stopwords\n",
    "from nltk.stem import SnowballStemmer,WordNetLemmatizer\n",
    "from nltk.corpus import wordnet\n",
    "from nltk import pos_tag\n"
   ]
  },
  {
   "cell_type": "code",
   "execution_count": 24,
   "metadata": {
    "execution": {
     "iopub.execute_input": "2023-06-29T13:43:43.925944Z",
     "iopub.status.busy": "2023-06-29T13:43:43.925490Z",
     "iopub.status.idle": "2023-06-29T13:44:37.639753Z",
     "shell.execute_reply": "2023-06-29T13:44:37.637972Z",
     "shell.execute_reply.started": "2023-06-29T13:43:43.925911Z"
    }
   },
   "outputs": [
    {
     "name": "stderr",
     "output_type": "stream",
     "text": [
      "[nltk_data] Downloading collection 'all'\n",
      "[nltk_data]    | \n",
      "[nltk_data]    | Downloading package abc to\n",
      "[nltk_data]    |     C:\\Users\\gabri\\AppData\\Roaming\\nltk_data...\n",
      "[nltk_data]    |   Package abc is already up-to-date!\n",
      "[nltk_data]    | Downloading package alpino to\n",
      "[nltk_data]    |     C:\\Users\\gabri\\AppData\\Roaming\\nltk_data...\n",
      "[nltk_data]    |   Unzipping corpora\\alpino.zip.\n",
      "[nltk_data]    | Downloading package averaged_perceptron_tagger to\n",
      "[nltk_data]    |     C:\\Users\\gabri\\AppData\\Roaming\\nltk_data...\n",
      "[nltk_data]    |   Package averaged_perceptron_tagger is already up-\n",
      "[nltk_data]    |       to-date!\n",
      "[nltk_data]    | Downloading package averaged_perceptron_tagger_ru to\n",
      "[nltk_data]    |     C:\\Users\\gabri\\AppData\\Roaming\\nltk_data...\n",
      "[nltk_data]    |   Unzipping\n",
      "[nltk_data]    |       taggers\\averaged_perceptron_tagger_ru.zip.\n",
      "[nltk_data]    | Downloading package basque_grammars to\n",
      "[nltk_data]    |     C:\\Users\\gabri\\AppData\\Roaming\\nltk_data...\n",
      "[nltk_data]    |   Unzipping grammars\\basque_grammars.zip.\n",
      "[nltk_data]    | Downloading package bcp47 to\n",
      "[nltk_data]    |     C:\\Users\\gabri\\AppData\\Roaming\\nltk_data...\n",
      "[nltk_data]    | Downloading package biocreative_ppi to\n",
      "[nltk_data]    |     C:\\Users\\gabri\\AppData\\Roaming\\nltk_data...\n",
      "[nltk_data]    |   Unzipping corpora\\biocreative_ppi.zip.\n",
      "[nltk_data]    | Downloading package bllip_wsj_no_aux to\n",
      "[nltk_data]    |     C:\\Users\\gabri\\AppData\\Roaming\\nltk_data...\n",
      "[nltk_data]    |   Unzipping models\\bllip_wsj_no_aux.zip.\n",
      "[nltk_data]    | Downloading package book_grammars to\n",
      "[nltk_data]    |     C:\\Users\\gabri\\AppData\\Roaming\\nltk_data...\n",
      "[nltk_data]    |   Unzipping grammars\\book_grammars.zip.\n",
      "[nltk_data]    | Downloading package brown to\n",
      "[nltk_data]    |     C:\\Users\\gabri\\AppData\\Roaming\\nltk_data...\n",
      "[nltk_data]    |   Unzipping corpora\\brown.zip.\n",
      "[nltk_data]    | Downloading package brown_tei to\n",
      "[nltk_data]    |     C:\\Users\\gabri\\AppData\\Roaming\\nltk_data...\n",
      "[nltk_data]    |   Unzipping corpora\\brown_tei.zip.\n",
      "[nltk_data]    | Downloading package cess_cat to\n",
      "[nltk_data]    |     C:\\Users\\gabri\\AppData\\Roaming\\nltk_data...\n",
      "[nltk_data]    |   Unzipping corpora\\cess_cat.zip.\n",
      "[nltk_data]    | Downloading package cess_esp to\n",
      "[nltk_data]    |     C:\\Users\\gabri\\AppData\\Roaming\\nltk_data...\n",
      "[nltk_data]    |   Unzipping corpora\\cess_esp.zip.\n",
      "[nltk_data]    | Downloading package chat80 to\n",
      "[nltk_data]    |     C:\\Users\\gabri\\AppData\\Roaming\\nltk_data...\n",
      "[nltk_data]    |   Unzipping corpora\\chat80.zip.\n",
      "[nltk_data]    | Downloading package city_database to\n",
      "[nltk_data]    |     C:\\Users\\gabri\\AppData\\Roaming\\nltk_data...\n",
      "[nltk_data]    |   Unzipping corpora\\city_database.zip.\n",
      "[nltk_data]    | Downloading package cmudict to\n",
      "[nltk_data]    |     C:\\Users\\gabri\\AppData\\Roaming\\nltk_data...\n",
      "[nltk_data]    |   Unzipping corpora\\cmudict.zip.\n",
      "[nltk_data]    | Downloading package comparative_sentences to\n",
      "[nltk_data]    |     C:\\Users\\gabri\\AppData\\Roaming\\nltk_data...\n",
      "[nltk_data]    |   Unzipping corpora\\comparative_sentences.zip.\n",
      "[nltk_data]    | Downloading package comtrans to\n",
      "[nltk_data]    |     C:\\Users\\gabri\\AppData\\Roaming\\nltk_data...\n",
      "[nltk_data]    | Downloading package conll2000 to\n",
      "[nltk_data]    |     C:\\Users\\gabri\\AppData\\Roaming\\nltk_data...\n",
      "[nltk_data]    |   Unzipping corpora\\conll2000.zip.\n",
      "[nltk_data]    | Downloading package conll2002 to\n",
      "[nltk_data]    |     C:\\Users\\gabri\\AppData\\Roaming\\nltk_data...\n",
      "[nltk_data]    |   Unzipping corpora\\conll2002.zip.\n",
      "[nltk_data]    | Downloading package conll2007 to\n",
      "[nltk_data]    |     C:\\Users\\gabri\\AppData\\Roaming\\nltk_data...\n",
      "[nltk_data]    | Downloading package crubadan to\n",
      "[nltk_data]    |     C:\\Users\\gabri\\AppData\\Roaming\\nltk_data...\n",
      "[nltk_data]    |   Unzipping corpora\\crubadan.zip.\n",
      "[nltk_data]    | Downloading package dependency_treebank to\n",
      "[nltk_data]    |     C:\\Users\\gabri\\AppData\\Roaming\\nltk_data...\n",
      "[nltk_data]    |   Unzipping corpora\\dependency_treebank.zip.\n",
      "[nltk_data]    | Downloading package dolch to\n",
      "[nltk_data]    |     C:\\Users\\gabri\\AppData\\Roaming\\nltk_data...\n",
      "[nltk_data]    |   Unzipping corpora\\dolch.zip.\n",
      "[nltk_data]    | Downloading package europarl_raw to\n",
      "[nltk_data]    |     C:\\Users\\gabri\\AppData\\Roaming\\nltk_data...\n",
      "[nltk_data]    |   Unzipping corpora\\europarl_raw.zip.\n",
      "[nltk_data]    | Downloading package extended_omw to\n",
      "[nltk_data]    |     C:\\Users\\gabri\\AppData\\Roaming\\nltk_data...\n",
      "[nltk_data]    | Downloading package floresta to\n",
      "[nltk_data]    |     C:\\Users\\gabri\\AppData\\Roaming\\nltk_data...\n",
      "[nltk_data]    |   Unzipping corpora\\floresta.zip.\n",
      "[nltk_data]    | Downloading package framenet_v15 to\n",
      "[nltk_data]    |     C:\\Users\\gabri\\AppData\\Roaming\\nltk_data...\n",
      "[nltk_data]    |   Unzipping corpora\\framenet_v15.zip.\n",
      "[nltk_data]    | Downloading package framenet_v17 to\n",
      "[nltk_data]    |     C:\\Users\\gabri\\AppData\\Roaming\\nltk_data...\n",
      "[nltk_data]    |   Unzipping corpora\\framenet_v17.zip.\n",
      "[nltk_data]    | Downloading package gazetteers to\n",
      "[nltk_data]    |     C:\\Users\\gabri\\AppData\\Roaming\\nltk_data...\n",
      "[nltk_data]    |   Unzipping corpora\\gazetteers.zip.\n",
      "[nltk_data]    | Downloading package genesis to\n",
      "[nltk_data]    |     C:\\Users\\gabri\\AppData\\Roaming\\nltk_data...\n",
      "[nltk_data]    |   Unzipping corpora\\genesis.zip.\n",
      "[nltk_data]    | Downloading package gutenberg to\n",
      "[nltk_data]    |     C:\\Users\\gabri\\AppData\\Roaming\\nltk_data...\n",
      "[nltk_data]    |   Unzipping corpora\\gutenberg.zip.\n",
      "[nltk_data]    | Downloading package ieer to\n",
      "[nltk_data]    |     C:\\Users\\gabri\\AppData\\Roaming\\nltk_data...\n",
      "[nltk_data]    |   Unzipping corpora\\ieer.zip.\n",
      "[nltk_data]    | Downloading package inaugural to\n",
      "[nltk_data]    |     C:\\Users\\gabri\\AppData\\Roaming\\nltk_data...\n",
      "[nltk_data]    |   Unzipping corpora\\inaugural.zip.\n",
      "[nltk_data]    | Downloading package indian to\n",
      "[nltk_data]    |     C:\\Users\\gabri\\AppData\\Roaming\\nltk_data...\n",
      "[nltk_data]    |   Unzipping corpora\\indian.zip.\n",
      "[nltk_data]    | Downloading package jeita to\n",
      "[nltk_data]    |     C:\\Users\\gabri\\AppData\\Roaming\\nltk_data...\n",
      "[nltk_data]    | Downloading package kimmo to\n",
      "[nltk_data]    |     C:\\Users\\gabri\\AppData\\Roaming\\nltk_data...\n",
      "[nltk_data]    |   Unzipping corpora\\kimmo.zip.\n",
      "[nltk_data]    | Downloading package knbc to\n",
      "[nltk_data]    |     C:\\Users\\gabri\\AppData\\Roaming\\nltk_data...\n",
      "[nltk_data]    | Downloading package large_grammars to\n",
      "[nltk_data]    |     C:\\Users\\gabri\\AppData\\Roaming\\nltk_data...\n",
      "[nltk_data]    |   Unzipping grammars\\large_grammars.zip.\n",
      "[nltk_data]    | Downloading package lin_thesaurus to\n",
      "[nltk_data]    |     C:\\Users\\gabri\\AppData\\Roaming\\nltk_data...\n",
      "[nltk_data]    |   Unzipping corpora\\lin_thesaurus.zip.\n",
      "[nltk_data]    | Downloading package mac_morpho to\n",
      "[nltk_data]    |     C:\\Users\\gabri\\AppData\\Roaming\\nltk_data...\n",
      "[nltk_data]    |   Unzipping corpora\\mac_morpho.zip.\n",
      "[nltk_data]    | Downloading package machado to\n",
      "[nltk_data]    |     C:\\Users\\gabri\\AppData\\Roaming\\nltk_data...\n",
      "[nltk_data]    | Downloading package masc_tagged to\n",
      "[nltk_data]    |     C:\\Users\\gabri\\AppData\\Roaming\\nltk_data...\n",
      "[nltk_data]    | Downloading package maxent_ne_chunker to\n",
      "[nltk_data]    |     C:\\Users\\gabri\\AppData\\Roaming\\nltk_data...\n",
      "[nltk_data]    |   Unzipping chunkers\\maxent_ne_chunker.zip.\n",
      "[nltk_data]    | Downloading package maxent_treebank_pos_tagger to\n",
      "[nltk_data]    |     C:\\Users\\gabri\\AppData\\Roaming\\nltk_data...\n",
      "[nltk_data]    |   Unzipping taggers\\maxent_treebank_pos_tagger.zip.\n",
      "[nltk_data]    | Downloading package moses_sample to\n",
      "[nltk_data]    |     C:\\Users\\gabri\\AppData\\Roaming\\nltk_data...\n",
      "[nltk_data]    |   Unzipping models\\moses_sample.zip.\n",
      "[nltk_data]    | Downloading package movie_reviews to\n",
      "[nltk_data]    |     C:\\Users\\gabri\\AppData\\Roaming\\nltk_data...\n",
      "[nltk_data]    |   Unzipping corpora\\movie_reviews.zip.\n",
      "[nltk_data]    | Downloading package mte_teip5 to\n",
      "[nltk_data]    |     C:\\Users\\gabri\\AppData\\Roaming\\nltk_data...\n",
      "[nltk_data]    |   Unzipping corpora\\mte_teip5.zip.\n",
      "[nltk_data]    | Downloading package mwa_ppdb to\n",
      "[nltk_data]    |     C:\\Users\\gabri\\AppData\\Roaming\\nltk_data...\n",
      "[nltk_data]    |   Unzipping misc\\mwa_ppdb.zip.\n",
      "[nltk_data]    | Downloading package names to\n",
      "[nltk_data]    |     C:\\Users\\gabri\\AppData\\Roaming\\nltk_data...\n",
      "[nltk_data]    |   Unzipping corpora\\names.zip.\n",
      "[nltk_data]    | Downloading package nombank.1.0 to\n",
      "[nltk_data]    |     C:\\Users\\gabri\\AppData\\Roaming\\nltk_data...\n"
     ]
    },
    {
     "name": "stderr",
     "output_type": "stream",
     "text": [
      "[nltk_data]    | Downloading package nonbreaking_prefixes to\n",
      "[nltk_data]    |     C:\\Users\\gabri\\AppData\\Roaming\\nltk_data...\n",
      "[nltk_data]    |   Unzipping corpora\\nonbreaking_prefixes.zip.\n",
      "[nltk_data]    | Downloading package nps_chat to\n",
      "[nltk_data]    |     C:\\Users\\gabri\\AppData\\Roaming\\nltk_data...\n",
      "[nltk_data]    |   Unzipping corpora\\nps_chat.zip.\n",
      "[nltk_data]    | Downloading package omw to\n",
      "[nltk_data]    |     C:\\Users\\gabri\\AppData\\Roaming\\nltk_data...\n",
      "[nltk_data]    | Downloading package omw-1.4 to\n",
      "[nltk_data]    |     C:\\Users\\gabri\\AppData\\Roaming\\nltk_data...\n",
      "[nltk_data]    |   Package omw-1.4 is already up-to-date!\n",
      "[nltk_data]    | Downloading package opinion_lexicon to\n",
      "[nltk_data]    |     C:\\Users\\gabri\\AppData\\Roaming\\nltk_data...\n",
      "[nltk_data]    |   Unzipping corpora\\opinion_lexicon.zip.\n",
      "[nltk_data]    | Downloading package panlex_swadesh to\n",
      "[nltk_data]    |     C:\\Users\\gabri\\AppData\\Roaming\\nltk_data...\n",
      "[nltk_data]    | Downloading package paradigms to\n",
      "[nltk_data]    |     C:\\Users\\gabri\\AppData\\Roaming\\nltk_data...\n",
      "[nltk_data]    |   Unzipping corpora\\paradigms.zip.\n",
      "[nltk_data]    | Downloading package pe08 to\n",
      "[nltk_data]    |     C:\\Users\\gabri\\AppData\\Roaming\\nltk_data...\n",
      "[nltk_data]    |   Unzipping corpora\\pe08.zip.\n",
      "[nltk_data]    | Downloading package perluniprops to\n",
      "[nltk_data]    |     C:\\Users\\gabri\\AppData\\Roaming\\nltk_data...\n",
      "[nltk_data]    |   Unzipping misc\\perluniprops.zip.\n",
      "[nltk_data]    | Downloading package pil to\n",
      "[nltk_data]    |     C:\\Users\\gabri\\AppData\\Roaming\\nltk_data...\n",
      "[nltk_data]    |   Unzipping corpora\\pil.zip.\n",
      "[nltk_data]    | Downloading package pl196x to\n",
      "[nltk_data]    |     C:\\Users\\gabri\\AppData\\Roaming\\nltk_data...\n",
      "[nltk_data]    |   Unzipping corpora\\pl196x.zip.\n",
      "[nltk_data]    | Downloading package porter_test to\n",
      "[nltk_data]    |     C:\\Users\\gabri\\AppData\\Roaming\\nltk_data...\n",
      "[nltk_data]    |   Unzipping stemmers\\porter_test.zip.\n",
      "[nltk_data]    | Downloading package ppattach to\n",
      "[nltk_data]    |     C:\\Users\\gabri\\AppData\\Roaming\\nltk_data...\n",
      "[nltk_data]    |   Unzipping corpora\\ppattach.zip.\n",
      "[nltk_data]    | Downloading package problem_reports to\n",
      "[nltk_data]    |     C:\\Users\\gabri\\AppData\\Roaming\\nltk_data...\n",
      "[nltk_data]    |   Unzipping corpora\\problem_reports.zip.\n",
      "[nltk_data]    | Downloading package product_reviews_1 to\n",
      "[nltk_data]    |     C:\\Users\\gabri\\AppData\\Roaming\\nltk_data...\n",
      "[nltk_data]    |   Unzipping corpora\\product_reviews_1.zip.\n",
      "[nltk_data]    | Downloading package product_reviews_2 to\n",
      "[nltk_data]    |     C:\\Users\\gabri\\AppData\\Roaming\\nltk_data...\n",
      "[nltk_data]    |   Unzipping corpora\\product_reviews_2.zip.\n",
      "[nltk_data]    | Downloading package propbank to\n",
      "[nltk_data]    |     C:\\Users\\gabri\\AppData\\Roaming\\nltk_data...\n",
      "[nltk_data]    | Downloading package pros_cons to\n",
      "[nltk_data]    |     C:\\Users\\gabri\\AppData\\Roaming\\nltk_data...\n",
      "[nltk_data]    |   Unzipping corpora\\pros_cons.zip.\n",
      "[nltk_data]    | Downloading package ptb to\n",
      "[nltk_data]    |     C:\\Users\\gabri\\AppData\\Roaming\\nltk_data...\n",
      "[nltk_data]    |   Unzipping corpora\\ptb.zip.\n",
      "[nltk_data]    | Downloading package punkt to\n",
      "[nltk_data]    |     C:\\Users\\gabri\\AppData\\Roaming\\nltk_data...\n",
      "[nltk_data]    |   Package punkt is already up-to-date!\n",
      "[nltk_data]    | Downloading package qc to\n",
      "[nltk_data]    |     C:\\Users\\gabri\\AppData\\Roaming\\nltk_data...\n",
      "[nltk_data]    |   Unzipping corpora\\qc.zip.\n",
      "[nltk_data]    | Downloading package reuters to\n",
      "[nltk_data]    |     C:\\Users\\gabri\\AppData\\Roaming\\nltk_data...\n",
      "[nltk_data]    | Downloading package rslp to\n",
      "[nltk_data]    |     C:\\Users\\gabri\\AppData\\Roaming\\nltk_data...\n",
      "[nltk_data]    |   Unzipping stemmers\\rslp.zip.\n",
      "[nltk_data]    | Downloading package rte to\n",
      "[nltk_data]    |     C:\\Users\\gabri\\AppData\\Roaming\\nltk_data...\n",
      "[nltk_data]    |   Unzipping corpora\\rte.zip.\n",
      "[nltk_data]    | Downloading package sample_grammars to\n",
      "[nltk_data]    |     C:\\Users\\gabri\\AppData\\Roaming\\nltk_data...\n",
      "[nltk_data]    |   Unzipping grammars\\sample_grammars.zip.\n",
      "[nltk_data]    | Downloading package semcor to\n",
      "[nltk_data]    |     C:\\Users\\gabri\\AppData\\Roaming\\nltk_data...\n",
      "[nltk_data]    | Downloading package senseval to\n",
      "[nltk_data]    |     C:\\Users\\gabri\\AppData\\Roaming\\nltk_data...\n",
      "[nltk_data]    |   Unzipping corpora\\senseval.zip.\n",
      "[nltk_data]    | Downloading package sentence_polarity to\n",
      "[nltk_data]    |     C:\\Users\\gabri\\AppData\\Roaming\\nltk_data...\n",
      "[nltk_data]    |   Unzipping corpora\\sentence_polarity.zip.\n",
      "[nltk_data]    | Downloading package sentiwordnet to\n",
      "[nltk_data]    |     C:\\Users\\gabri\\AppData\\Roaming\\nltk_data...\n",
      "[nltk_data]    |   Unzipping corpora\\sentiwordnet.zip.\n",
      "[nltk_data]    | Downloading package shakespeare to\n",
      "[nltk_data]    |     C:\\Users\\gabri\\AppData\\Roaming\\nltk_data...\n",
      "[nltk_data]    |   Unzipping corpora\\shakespeare.zip.\n",
      "[nltk_data]    | Downloading package sinica_treebank to\n",
      "[nltk_data]    |     C:\\Users\\gabri\\AppData\\Roaming\\nltk_data...\n",
      "[nltk_data]    |   Unzipping corpora\\sinica_treebank.zip.\n",
      "[nltk_data]    | Downloading package smultron to\n",
      "[nltk_data]    |     C:\\Users\\gabri\\AppData\\Roaming\\nltk_data...\n",
      "[nltk_data]    |   Unzipping corpora\\smultron.zip.\n",
      "[nltk_data]    | Downloading package snowball_data to\n",
      "[nltk_data]    |     C:\\Users\\gabri\\AppData\\Roaming\\nltk_data...\n",
      "[nltk_data]    | Downloading package spanish_grammars to\n",
      "[nltk_data]    |     C:\\Users\\gabri\\AppData\\Roaming\\nltk_data...\n",
      "[nltk_data]    |   Unzipping grammars\\spanish_grammars.zip.\n",
      "[nltk_data]    | Downloading package state_union to\n",
      "[nltk_data]    |     C:\\Users\\gabri\\AppData\\Roaming\\nltk_data...\n",
      "[nltk_data]    |   Unzipping corpora\\state_union.zip.\n",
      "[nltk_data]    | Downloading package stopwords to\n",
      "[nltk_data]    |     C:\\Users\\gabri\\AppData\\Roaming\\nltk_data...\n",
      "[nltk_data]    |   Package stopwords is already up-to-date!\n",
      "[nltk_data]    | Downloading package subjectivity to\n",
      "[nltk_data]    |     C:\\Users\\gabri\\AppData\\Roaming\\nltk_data...\n",
      "[nltk_data]    |   Unzipping corpora\\subjectivity.zip.\n",
      "[nltk_data]    | Downloading package swadesh to\n",
      "[nltk_data]    |     C:\\Users\\gabri\\AppData\\Roaming\\nltk_data...\n",
      "[nltk_data]    |   Unzipping corpora\\swadesh.zip.\n",
      "[nltk_data]    | Downloading package switchboard to\n",
      "[nltk_data]    |     C:\\Users\\gabri\\AppData\\Roaming\\nltk_data...\n",
      "[nltk_data]    |   Unzipping corpora\\switchboard.zip.\n",
      "[nltk_data]    | Downloading package tagsets to\n",
      "[nltk_data]    |     C:\\Users\\gabri\\AppData\\Roaming\\nltk_data...\n",
      "[nltk_data]    |   Unzipping help\\tagsets.zip.\n",
      "[nltk_data]    | Downloading package timit to\n",
      "[nltk_data]    |     C:\\Users\\gabri\\AppData\\Roaming\\nltk_data...\n",
      "[nltk_data]    |   Unzipping corpora\\timit.zip.\n",
      "[nltk_data]    | Downloading package toolbox to\n",
      "[nltk_data]    |     C:\\Users\\gabri\\AppData\\Roaming\\nltk_data...\n",
      "[nltk_data]    |   Unzipping corpora\\toolbox.zip.\n",
      "[nltk_data]    | Downloading package treebank to\n",
      "[nltk_data]    |     C:\\Users\\gabri\\AppData\\Roaming\\nltk_data...\n",
      "[nltk_data]    |   Unzipping corpora\\treebank.zip.\n",
      "[nltk_data]    | Downloading package twitter_samples to\n",
      "[nltk_data]    |     C:\\Users\\gabri\\AppData\\Roaming\\nltk_data...\n",
      "[nltk_data]    |   Unzipping corpora\\twitter_samples.zip.\n",
      "[nltk_data]    | Downloading package udhr to\n",
      "[nltk_data]    |     C:\\Users\\gabri\\AppData\\Roaming\\nltk_data...\n",
      "[nltk_data]    |   Unzipping corpora\\udhr.zip.\n",
      "[nltk_data]    | Downloading package udhr2 to\n",
      "[nltk_data]    |     C:\\Users\\gabri\\AppData\\Roaming\\nltk_data...\n",
      "[nltk_data]    |   Unzipping corpora\\udhr2.zip.\n",
      "[nltk_data]    | Downloading package unicode_samples to\n",
      "[nltk_data]    |     C:\\Users\\gabri\\AppData\\Roaming\\nltk_data...\n",
      "[nltk_data]    |   Unzipping corpora\\unicode_samples.zip.\n",
      "[nltk_data]    | Downloading package universal_tagset to\n",
      "[nltk_data]    |     C:\\Users\\gabri\\AppData\\Roaming\\nltk_data...\n",
      "[nltk_data]    |   Unzipping taggers\\universal_tagset.zip.\n",
      "[nltk_data]    | Downloading package universal_treebanks_v20 to\n",
      "[nltk_data]    |     C:\\Users\\gabri\\AppData\\Roaming\\nltk_data...\n",
      "[nltk_data]    | Downloading package vader_lexicon to\n",
      "[nltk_data]    |     C:\\Users\\gabri\\AppData\\Roaming\\nltk_data...\n",
      "[nltk_data]    | Downloading package verbnet to\n",
      "[nltk_data]    |     C:\\Users\\gabri\\AppData\\Roaming\\nltk_data...\n",
      "[nltk_data]    |   Unzipping corpora\\verbnet.zip.\n"
     ]
    },
    {
     "name": "stderr",
     "output_type": "stream",
     "text": [
      "[nltk_data]    | Downloading package verbnet3 to\n",
      "[nltk_data]    |     C:\\Users\\gabri\\AppData\\Roaming\\nltk_data...\n",
      "[nltk_data]    |   Unzipping corpora\\verbnet3.zip.\n",
      "[nltk_data]    | Downloading package webtext to\n",
      "[nltk_data]    |     C:\\Users\\gabri\\AppData\\Roaming\\nltk_data...\n",
      "[nltk_data]    |   Unzipping corpora\\webtext.zip.\n",
      "[nltk_data]    | Downloading package wmt15_eval to\n",
      "[nltk_data]    |     C:\\Users\\gabri\\AppData\\Roaming\\nltk_data...\n",
      "[nltk_data]    |   Unzipping models\\wmt15_eval.zip.\n",
      "[nltk_data]    | Downloading package word2vec_sample to\n",
      "[nltk_data]    |     C:\\Users\\gabri\\AppData\\Roaming\\nltk_data...\n",
      "[nltk_data]    |   Unzipping models\\word2vec_sample.zip.\n",
      "[nltk_data]    | Downloading package wordnet to\n",
      "[nltk_data]    |     C:\\Users\\gabri\\AppData\\Roaming\\nltk_data...\n",
      "[nltk_data]    |   Package wordnet is already up-to-date!\n",
      "[nltk_data]    | Downloading package wordnet2021 to\n",
      "[nltk_data]    |     C:\\Users\\gabri\\AppData\\Roaming\\nltk_data...\n",
      "[nltk_data]    | Downloading package wordnet2022 to\n",
      "[nltk_data]    |     C:\\Users\\gabri\\AppData\\Roaming\\nltk_data...\n",
      "[nltk_data]    |   Unzipping corpora\\wordnet2022.zip.\n",
      "[nltk_data]    | Downloading package wordnet31 to\n",
      "[nltk_data]    |     C:\\Users\\gabri\\AppData\\Roaming\\nltk_data...\n",
      "[nltk_data]    | Downloading package wordnet_ic to\n",
      "[nltk_data]    |     C:\\Users\\gabri\\AppData\\Roaming\\nltk_data...\n",
      "[nltk_data]    |   Unzipping corpora\\wordnet_ic.zip.\n",
      "[nltk_data]    | Downloading package words to\n",
      "[nltk_data]    |     C:\\Users\\gabri\\AppData\\Roaming\\nltk_data...\n",
      "[nltk_data]    |   Unzipping corpora\\words.zip.\n",
      "[nltk_data]    | Downloading package ycoe to\n",
      "[nltk_data]    |     C:\\Users\\gabri\\AppData\\Roaming\\nltk_data...\n",
      "[nltk_data]    |   Unzipping corpora\\ycoe.zip.\n",
      "[nltk_data]    | \n",
      "[nltk_data]  Done downloading collection all\n",
      "'unzip' is not recognized as an internal or external command,\n",
      "operable program or batch file.\n"
     ]
    }
   ],
   "source": [
    "nltk.download('all')\n",
    "!unzip /usr/share/nltk_data/corpora/wordnet.zip -d /usr/share/nltk_data/corpora/"
   ]
  },
  {
   "cell_type": "markdown",
   "metadata": {},
   "source": [
    "## Cleaning the 'text' column:"
   ]
  },
  {
   "cell_type": "code",
   "execution_count": 25,
   "metadata": {
    "execution": {
     "iopub.execute_input": "2023-06-29T13:44:37.643208Z",
     "iopub.status.busy": "2023-06-29T13:44:37.642701Z",
     "iopub.status.idle": "2023-06-29T13:44:37.653086Z",
     "shell.execute_reply": "2023-06-29T13:44:37.651243Z",
     "shell.execute_reply.started": "2023-06-29T13:44:37.643161Z"
    }
   },
   "outputs": [],
   "source": [
    "# Define a function to clean the text\n",
    "def clean(text):\n",
    "    text = text.lower() #lowercase text\n",
    "    text = re.sub('[^A-Za-z]+', ' ', str(text)) #removing the special characters and numeric values\n",
    "    text = re.sub('\\s+', ' ', text)  #remove extra space and tabs\n",
    "    text = re.compile('<.*?>').sub('', text) #removing html tags\n",
    "    return text"
   ]
  },
  {
   "cell_type": "code",
   "execution_count": 26,
   "metadata": {
    "execution": {
     "iopub.execute_input": "2023-06-29T13:44:42.085003Z",
     "iopub.status.busy": "2023-06-29T13:44:42.084596Z",
     "iopub.status.idle": "2023-06-29T13:44:42.296487Z",
     "shell.execute_reply": "2023-06-29T13:44:42.295203Z",
     "shell.execute_reply.started": "2023-06-29T13:44:42.084972Z"
    }
   },
   "outputs": [
    {
     "data": {
      "text/plain": [
       "0    our deeds are the reason of this earthquake ma...\n",
       "1                forest fire near la ronge sask canada\n",
       "2    all residents asked to shelter in place are be...\n",
       "3     people receive wildfires evacuation orders in...\n",
       "4    just got sent this photo from ruby alaska as s...\n",
       "Name: cleaned text, dtype: object"
      ]
     },
     "execution_count": 26,
     "metadata": {},
     "output_type": "execute_result"
    }
   ],
   "source": [
    "train['cleaned text']=train['text'].apply(clean)\n",
    "train['cleaned text'].head(5)"
   ]
  },
  {
   "cell_type": "code",
   "execution_count": 27,
   "metadata": {
    "execution": {
     "iopub.execute_input": "2023-06-29T13:44:43.211335Z",
     "iopub.status.busy": "2023-06-29T13:44:43.210484Z",
     "iopub.status.idle": "2023-06-29T13:44:43.309800Z",
     "shell.execute_reply": "2023-06-29T13:44:43.308492Z",
     "shell.execute_reply.started": "2023-06-29T13:44:43.211291Z"
    }
   },
   "outputs": [
    {
     "data": {
      "text/plain": [
       "0                   just happened a terrible car crash\n",
       "1    heard about earthquake is different cities sta...\n",
       "2    there is a forest fire at spot pond geese are ...\n",
       "3                apocalypse lighting spokane wildfires\n",
       "4           typhoon soudelor kills in china and taiwan\n",
       "Name: cleaned text, dtype: object"
      ]
     },
     "execution_count": 27,
     "metadata": {},
     "output_type": "execute_result"
    }
   ],
   "source": [
    "test['cleaned text']=test['text'].apply(clean)\n",
    "test['cleaned text'].head(5)"
   ]
  },
  {
   "cell_type": "markdown",
   "metadata": {},
   "source": [
    "## Removal of stopwords"
   ]
  },
  {
   "cell_type": "code",
   "execution_count": 28,
   "metadata": {
    "execution": {
     "iopub.execute_input": "2023-06-29T13:44:43.660377Z",
     "iopub.status.busy": "2023-06-29T13:44:43.659926Z",
     "iopub.status.idle": "2023-06-29T13:44:43.667218Z",
     "shell.execute_reply": "2023-06-29T13:44:43.666068Z",
     "shell.execute_reply.started": "2023-06-29T13:44:43.660345Z"
    }
   },
   "outputs": [],
   "source": [
    "def stopword(string):\n",
    "    a= [i for i in string.split() if i not in stopwords.words(\"english\")]\n",
    "    return \" \".join(a)"
   ]
  },
  {
   "cell_type": "code",
   "execution_count": 29,
   "metadata": {
    "execution": {
     "iopub.execute_input": "2023-06-29T13:44:43.870650Z",
     "iopub.status.busy": "2023-06-29T13:44:43.869931Z",
     "iopub.status.idle": "2023-06-29T13:45:01.968827Z",
     "shell.execute_reply": "2023-06-29T13:45:01.967379Z",
     "shell.execute_reply.started": "2023-06-29T13:44:43.870612Z"
    }
   },
   "outputs": [
    {
     "data": {
      "text/plain": [
       "0            deeds reason earthquake may allah forgive us\n",
       "1                   forest fire near la ronge sask canada\n",
       "2       residents asked shelter place notified officer...\n",
       "3       people receive wildfires evacuation orders cal...\n",
       "4       got sent photo ruby alaska smoke wildfires pou...\n",
       "                              ...                        \n",
       "7608    two giant cranes holding bridge collapse nearb...\n",
       "7609    aria ahrary thetawniest control wild fires cal...\n",
       "7610             utc km volcano hawaii http co zdtoyd ebj\n",
       "7611    police investigating e bike collided car littl...\n",
       "7612    latest homes razed northern california wildfir...\n",
       "Name: cleaned text, Length: 7613, dtype: object"
      ]
     },
     "execution_count": 29,
     "metadata": {},
     "output_type": "execute_result"
    }
   ],
   "source": [
    "train['cleaned text']=train['cleaned text'].apply(stopword)\n",
    "train['cleaned text']"
   ]
  },
  {
   "cell_type": "code",
   "execution_count": 30,
   "metadata": {
    "execution": {
     "iopub.execute_input": "2023-06-29T13:45:01.972270Z",
     "iopub.status.busy": "2023-06-29T13:45:01.971851Z",
     "iopub.status.idle": "2023-06-29T13:45:09.722808Z",
     "shell.execute_reply": "2023-06-29T13:45:09.721304Z",
     "shell.execute_reply.started": "2023-06-29T13:45:01.972238Z"
    }
   },
   "outputs": [
    {
     "data": {
      "text/plain": [
       "0                             happened terrible car crash\n",
       "1       heard earthquake different cities stay safe ev...\n",
       "2       forest fire spot pond geese fleeing across str...\n",
       "3                   apocalypse lighting spokane wildfires\n",
       "4                     typhoon soudelor kills china taiwan\n",
       "                              ...                        \n",
       "3258    earthquake safety los angeles safety fasteners...\n",
       "3259    storm ri worse last hurricane city amp others ...\n",
       "3260     green line derailment chicago http co utbxlcbiuy\n",
       "3261    meg issues hazardous weather outlook hwo http ...\n",
       "3262    cityofcalgary activated municipal emergency pl...\n",
       "Name: cleaned text, Length: 3263, dtype: object"
      ]
     },
     "execution_count": 30,
     "metadata": {},
     "output_type": "execute_result"
    }
   ],
   "source": [
    "test['cleaned text']=test['cleaned text'].apply(stopword)\n",
    "test['cleaned text']"
   ]
  },
  {
   "cell_type": "markdown",
   "metadata": {},
   "source": [
    "## Stemming:"
   ]
  },
  {
   "cell_type": "code",
   "execution_count": 31,
   "metadata": {
    "execution": {
     "iopub.execute_input": "2023-06-29T13:45:09.724944Z",
     "iopub.status.busy": "2023-06-29T13:45:09.724592Z",
     "iopub.status.idle": "2023-06-29T13:45:09.731718Z",
     "shell.execute_reply": "2023-06-29T13:45:09.730169Z",
     "shell.execute_reply.started": "2023-06-29T13:45:09.724916Z"
    }
   },
   "outputs": [],
   "source": [
    "snow = SnowballStemmer(\"english\")\n",
    "def stemming(string):\n",
    "    a=[snow.stem(i) for i in word_tokenize(string)]\n",
    "    return \" \".join(a)"
   ]
  },
  {
   "cell_type": "code",
   "execution_count": 32,
   "metadata": {
    "execution": {
     "iopub.execute_input": "2023-06-29T13:45:09.737520Z",
     "iopub.status.busy": "2023-06-29T13:45:09.736552Z",
     "iopub.status.idle": "2023-06-29T13:45:13.056150Z",
     "shell.execute_reply": "2023-06-29T13:45:13.054980Z",
     "shell.execute_reply.started": "2023-06-29T13:45:09.737478Z"
    }
   },
   "outputs": [
    {
     "data": {
      "text/plain": [
       "0               deed reason earthquak may allah forgiv us\n",
       "1                    forest fire near la rong sask canada\n",
       "2       resid ask shelter place notifi offic evacu she...\n",
       "3             peopl receiv wildfir evacu order california\n",
       "4       got sent photo rubi alaska smoke wildfir pour ...\n",
       "                              ...                        \n",
       "7608    two giant crane hold bridg collaps nearbi home...\n",
       "7609    aria ahrari thetawniest control wild fire cali...\n",
       "7610             utc km volcano hawaii http co zdtoyd ebj\n",
       "7611    polic investig e bike collid car littl portug ...\n",
       "7612    latest home raze northern california wildfir a...\n",
       "Name: cleaned text, Length: 7613, dtype: object"
      ]
     },
     "execution_count": 32,
     "metadata": {},
     "output_type": "execute_result"
    }
   ],
   "source": [
    "train['cleaned text']=train['cleaned text'].apply(stemming)\n",
    "train['cleaned text']"
   ]
  },
  {
   "cell_type": "code",
   "execution_count": 33,
   "metadata": {
    "execution": {
     "iopub.execute_input": "2023-06-29T13:45:13.058825Z",
     "iopub.status.busy": "2023-06-29T13:45:13.057664Z",
     "iopub.status.idle": "2023-06-29T13:45:14.562250Z",
     "shell.execute_reply": "2023-06-29T13:45:14.560847Z",
     "shell.execute_reply.started": "2023-06-29T13:45:13.058779Z"
    }
   },
   "outputs": [
    {
     "data": {
      "text/plain": [
       "0                                happen terribl car crash\n",
       "1           heard earthquak differ citi stay safe everyon\n",
       "2       forest fire spot pond gees flee across street ...\n",
       "3                          apocalyps light spokan wildfir\n",
       "4                      typhoon soudelor kill china taiwan\n",
       "                              ...                        \n",
       "3258        earthquak safeti los angel safeti fasten xrwn\n",
       "3259    storm ri wors last hurrican citi amp other har...\n",
       "3260         green line derail chicago http co utbxlcbiuy\n",
       "3261    meg issu hazard weather outlook hwo http co x ...\n",
       "3262      cityofcalgari activ municip emerg plan yycstorm\n",
       "Name: cleaned text, Length: 3263, dtype: object"
      ]
     },
     "execution_count": 33,
     "metadata": {},
     "output_type": "execute_result"
    }
   ],
   "source": [
    "test['cleaned text']=test['cleaned text'].apply(stemming)\n",
    "test['cleaned text']"
   ]
  },
  {
   "cell_type": "markdown",
   "metadata": {},
   "source": [
    "## Lemmatization"
   ]
  },
  {
   "cell_type": "code",
   "execution_count": 34,
   "metadata": {
    "execution": {
     "iopub.execute_input": "2023-06-29T13:45:14.564736Z",
     "iopub.status.busy": "2023-06-29T13:45:14.564387Z",
     "iopub.status.idle": "2023-06-29T13:45:14.571595Z",
     "shell.execute_reply": "2023-06-29T13:45:14.570824Z",
     "shell.execute_reply.started": "2023-06-29T13:45:14.564707Z"
    }
   },
   "outputs": [],
   "source": [
    "wl = WordNetLemmatizer()\n",
    " \n",
    "def pos(tag):\n",
    "    if tag.startswith('J'):\n",
    "        return wordnet.ADJ\n",
    "    elif tag.startswith('V'):\n",
    "        return wordnet.VERB\n",
    "    elif tag.startswith('N'):\n",
    "        return wordnet.NOUN\n",
    "    elif tag.startswith('R'):\n",
    "        return wordnet.ADV\n",
    "    else:\n",
    "        return wordnet.NOUN"
   ]
  },
  {
   "cell_type": "code",
   "execution_count": 35,
   "metadata": {
    "execution": {
     "iopub.execute_input": "2023-06-29T13:45:14.574304Z",
     "iopub.status.busy": "2023-06-29T13:45:14.572922Z",
     "iopub.status.idle": "2023-06-29T13:45:14.586615Z",
     "shell.execute_reply": "2023-06-29T13:45:14.585053Z",
     "shell.execute_reply.started": "2023-06-29T13:45:14.574236Z"
    }
   },
   "outputs": [],
   "source": [
    "def lemmatizer(string):\n",
    "    word_pos_tags = nltk.pos_tag(word_tokenize(string))\n",
    "    a=[wl.lemmatize(tag[0], pos(tag[1])) for idx, tag in enumerate(word_pos_tags)]\n",
    "    return \" \".join(a)"
   ]
  },
  {
   "cell_type": "code",
   "execution_count": 36,
   "metadata": {
    "execution": {
     "iopub.execute_input": "2023-06-29T13:45:14.589485Z",
     "iopub.status.busy": "2023-06-29T13:45:14.589054Z",
     "iopub.status.idle": "2023-06-29T13:45:26.792778Z",
     "shell.execute_reply": "2023-06-29T13:45:26.791408Z",
     "shell.execute_reply.started": "2023-06-29T13:45:14.589453Z"
    }
   },
   "outputs": [
    {
     "data": {
      "text/plain": [
       "0                deed reason earthquak may allah forgiv u\n",
       "1                    forest fire near la rong sask canada\n",
       "2       resid ask shelter place notifi offic evacu she...\n",
       "3             peopl receiv wildfir evacu order california\n",
       "4       get sent photo rubi alaska smoke wildfir pour ...\n",
       "                              ...                        \n",
       "7608    two giant crane hold bridg collaps nearbi home...\n",
       "7609    aria ahrari thetawniest control wild fire cali...\n",
       "7610             utc km volcano hawaii http co zdtoyd ebj\n",
       "7611    polic investig e bike collid car littl portug ...\n",
       "7612    late home raze northern california wildfir abc...\n",
       "Name: cleaned text, Length: 7613, dtype: object"
      ]
     },
     "execution_count": 36,
     "metadata": {},
     "output_type": "execute_result"
    }
   ],
   "source": [
    "train['cleaned text']=train['cleaned text'].apply(lemmatizer)\n",
    "train['cleaned text']"
   ]
  },
  {
   "cell_type": "code",
   "execution_count": 37,
   "metadata": {
    "execution": {
     "iopub.execute_input": "2023-06-29T13:45:26.796892Z",
     "iopub.status.busy": "2023-06-29T13:45:26.796492Z",
     "iopub.status.idle": "2023-06-29T13:45:32.029434Z",
     "shell.execute_reply": "2023-06-29T13:45:32.027838Z",
     "shell.execute_reply.started": "2023-06-29T13:45:26.796861Z"
    }
   },
   "outputs": [
    {
     "data": {
      "text/plain": [
       "0                                happen terribl car crash\n",
       "1           heard earthquak differ citi stay safe everyon\n",
       "2       forest fire spot pond gee flee across street c...\n",
       "3                          apocalyps light spokan wildfir\n",
       "4                      typhoon soudelor kill china taiwan\n",
       "                              ...                        \n",
       "3258        earthquak safeti los angel safeti fasten xrwn\n",
       "3259    storm ri wors last hurrican citi amp other har...\n",
       "3260         green line derail chicago http co utbxlcbiuy\n",
       "3261    meg issu hazard weather outlook hwo http co x ...\n",
       "3262      cityofcalgari activ municip emerg plan yycstorm\n",
       "Name: cleaned text, Length: 3263, dtype: object"
      ]
     },
     "execution_count": 37,
     "metadata": {},
     "output_type": "execute_result"
    }
   ],
   "source": [
    "test['cleaned text']=test['cleaned text'].apply(lemmatizer)\n",
    "test['cleaned text']"
   ]
  },
  {
   "cell_type": "markdown",
   "metadata": {},
   "source": [
    "# Train Test Split"
   ]
  },
  {
   "cell_type": "code",
   "execution_count": 38,
   "metadata": {
    "execution": {
     "iopub.execute_input": "2023-06-29T13:45:32.038838Z",
     "iopub.status.busy": "2023-06-29T13:45:32.038442Z",
     "iopub.status.idle": "2023-06-29T13:45:32.044833Z",
     "shell.execute_reply": "2023-06-29T13:45:32.043193Z",
     "shell.execute_reply.started": "2023-06-29T13:45:32.038809Z"
    }
   },
   "outputs": [],
   "source": [
    "from sklearn.model_selection import train_test_split"
   ]
  },
  {
   "cell_type": "code",
   "execution_count": 39,
   "metadata": {
    "execution": {
     "iopub.execute_input": "2023-06-29T13:45:32.047731Z",
     "iopub.status.busy": "2023-06-29T13:45:32.046945Z",
     "iopub.status.idle": "2023-06-29T13:45:32.067726Z",
     "shell.execute_reply": "2023-06-29T13:45:32.066499Z",
     "shell.execute_reply.started": "2023-06-29T13:45:32.047652Z"
    }
   },
   "outputs": [],
   "source": [
    "xtrain,xtest,ytrain,ytest = train_test_split(train['cleaned text'],train['target'],\n",
    "                                             test_size=0.3,random_state=100)"
   ]
  },
  {
   "cell_type": "code",
   "execution_count": 40,
   "metadata": {
    "execution": {
     "iopub.execute_input": "2023-06-29T13:45:32.070079Z",
     "iopub.status.busy": "2023-06-29T13:45:32.069406Z",
     "iopub.status.idle": "2023-06-29T13:45:32.085201Z",
     "shell.execute_reply": "2023-06-29T13:45:32.083964Z",
     "shell.execute_reply.started": "2023-06-29T13:45:32.070044Z"
    }
   },
   "outputs": [
    {
     "name": "stdout",
     "output_type": "stream",
     "text": [
      "(5329,)\n",
      "(2284,)\n",
      "(5329,)\n",
      "(2284,)\n"
     ]
    }
   ],
   "source": [
    "print(xtrain.shape)\n",
    "print(xtest.shape)\n",
    "print(ytrain.shape)\n",
    "print(ytest.shape)"
   ]
  },
  {
   "cell_type": "markdown",
   "metadata": {},
   "source": [
    "# Vertorization - TF-IDF on Train dataset"
   ]
  },
  {
   "cell_type": "code",
   "execution_count": 41,
   "metadata": {
    "execution": {
     "iopub.execute_input": "2023-06-29T13:45:32.087828Z",
     "iopub.status.busy": "2023-06-29T13:45:32.086625Z",
     "iopub.status.idle": "2023-06-29T13:45:32.102765Z",
     "shell.execute_reply": "2023-06-29T13:45:32.101150Z",
     "shell.execute_reply.started": "2023-06-29T13:45:32.087786Z"
    }
   },
   "outputs": [],
   "source": [
    "from sklearn.feature_extraction.text import TfidfVectorizer\n",
    "tfidf_vectorizer = TfidfVectorizer(use_idf=True)"
   ]
  },
  {
   "cell_type": "code",
   "execution_count": 42,
   "metadata": {
    "execution": {
     "iopub.execute_input": "2023-06-29T13:45:32.105624Z",
     "iopub.status.busy": "2023-06-29T13:45:32.104913Z",
     "iopub.status.idle": "2023-06-29T13:45:32.322012Z",
     "shell.execute_reply": "2023-06-29T13:45:32.320882Z",
     "shell.execute_reply.started": "2023-06-29T13:45:32.105582Z"
    }
   },
   "outputs": [],
   "source": [
    "# converting xtrain to vector - Fit and transform \n",
    "xtrain_tfidf = tfidf_vectorizer.fit_transform(xtrain)\n",
    "# converting xtest to vector -  transform\n",
    "xtest_tfidf = tfidf_vectorizer.transform(xtest)"
   ]
  },
  {
   "cell_type": "code",
   "execution_count": 43,
   "metadata": {
    "execution": {
     "iopub.execute_input": "2023-06-29T13:45:32.324034Z",
     "iopub.status.busy": "2023-06-29T13:45:32.323595Z",
     "iopub.status.idle": "2023-06-29T13:45:32.332155Z",
     "shell.execute_reply": "2023-06-29T13:45:32.330623Z",
     "shell.execute_reply.started": "2023-06-29T13:45:32.323993Z"
    }
   },
   "outputs": [
    {
     "name": "stdout",
     "output_type": "stream",
     "text": [
      "  (0, 13109)\t0.2953278615964043\n",
      "  (0, 6819)\t0.3142525117036636\n",
      "  (0, 5939)\t0.2885733616089154\n",
      "  (0, 2119)\t0.06072402603613517\n",
      "  (0, 5492)\t0.06146898550676112\n",
      "  (0, 11813)\t0.22541724792615872\n",
      "  (0, 4436)\t0.19973809783141058\n",
      "  (0, 7183)\t0.3142525117036636\n",
      "  (0, 13336)\t0.16787006457545442\n",
      "  (0, 7827)\t0.25718336314673407\n",
      "  (0, 77)\t0.3142525117036636\n",
      "  (0, 974)\t0.2342497046207686\n",
      "  (0, 13611)\t0.30359470146473316\n",
      "  (0, 5443)\t0.2058250629572377\n",
      "  (0, 2802)\t0.237215061419419\n",
      "  (0, 8425)\t0.17007153487816895\n",
      "  (0, 4590)\t0.25718336314673407\n",
      "  (1, 7487)\t0.21504235339335953\n",
      "  (1, 570)\t0.2828556934749326\n",
      "  (1, 12795)\t0.2813548966395483\n",
      "  (1, 756)\t0.2912005880764015\n",
      "  (1, 11312)\t0.5465134845450796\n",
      "  (1, 6726)\t0.23206623315006616\n",
      "  (1, 5417)\t0.26230715092469564\n",
      "  (1, 11061)\t0.45458837115856754\n",
      "  :\t:\n",
      "  (5326, 14231)\t0.4939866676402794\n",
      "  (5326, 7546)\t0.4939866676402794\n",
      "  (5326, 555)\t0.4103910802879629\n",
      "  (5326, 11010)\t0.2875888860123708\n",
      "  (5326, 2119)\t0.0911000345919458\n",
      "  (5326, 5492)\t0.0922176454944778\n",
      "  (5327, 1876)\t0.5100778590710452\n",
      "  (5327, 951)\t0.3984025413535752\n",
      "  (5327, 8612)\t0.36746966118069097\n",
      "  (5327, 12730)\t0.3628760293448386\n",
      "  (5327, 11539)\t0.36991214726590893\n",
      "  (5327, 2306)\t0.3546635061782533\n",
      "  (5327, 7130)\t0.2275122608952237\n",
      "  (5328, 14409)\t0.3316394109605573\n",
      "  (5328, 6778)\t0.3316394109605573\n",
      "  (5328, 12989)\t0.569789291375189\n",
      "  (5328, 7511)\t0.20290886729016544\n",
      "  (5328, 12289)\t0.22080333865612403\n",
      "  (5328, 5223)\t0.2041126276740674\n",
      "  (5328, 10343)\t0.4563697540784986\n",
      "  (5328, 13917)\t0.19307364956132397\n",
      "  (5328, 8375)\t0.20005913668967548\n",
      "  (5328, 9339)\t0.1750278054288927\n",
      "  (5328, 2119)\t0.061160277776079394\n",
      "  (5328, 5492)\t0.06191058916235494\n"
     ]
    }
   ],
   "source": [
    "print(xtrain_tfidf)"
   ]
  },
  {
   "cell_type": "code",
   "execution_count": 44,
   "metadata": {
    "execution": {
     "iopub.execute_input": "2023-06-29T13:45:32.334536Z",
     "iopub.status.busy": "2023-06-29T13:45:32.334057Z",
     "iopub.status.idle": "2023-06-29T13:45:32.344025Z",
     "shell.execute_reply": "2023-06-29T13:45:32.343059Z",
     "shell.execute_reply.started": "2023-06-29T13:45:32.334476Z"
    }
   },
   "outputs": [
    {
     "name": "stdout",
     "output_type": "stream",
     "text": [
      "  (0, 13336)\t0.22995856708676699\n",
      "  (0, 12861)\t0.30298391442483485\n",
      "  (0, 11564)\t0.34245201000202435\n",
      "  (0, 9424)\t0.37472810357891734\n",
      "  (0, 7894)\t0.29902740742416467\n",
      "  (0, 6642)\t0.24455828012688133\n",
      "  (0, 5492)\t0.08420393393640756\n",
      "  (0, 4192)\t0.24815266483932852\n",
      "  (0, 2119)\t0.08318344339906188\n",
      "  (0, 1913)\t0.3455286774986886\n",
      "  (0, 508)\t0.38070553035049687\n",
      "  (0, 20)\t0.3293673190544163\n",
      "  (1, 13632)\t0.4273771041928385\n",
      "  (1, 12385)\t0.35505361372983524\n",
      "  (1, 11790)\t0.24541452468364525\n",
      "  (1, 11719)\t0.30789048550380826\n",
      "  (1, 7109)\t0.31207442344966807\n",
      "  (1, 3779)\t0.5260717566218859\n",
      "  (1, 2466)\t0.26801462695909156\n",
      "  (1, 342)\t0.3004781573574991\n",
      "  (2, 12641)\t0.3481613002826589\n",
      "  (2, 11707)\t0.45857920392458656\n",
      "  (2, 11703)\t0.605477404967367\n",
      "  (2, 11626)\t0.3242919824361946\n",
      "  (2, 8874)\t0.3171640389068444\n",
      "  :\t:\n",
      "  (2281, 9610)\t0.20405084438421348\n",
      "  (2281, 8264)\t0.22408872155382625\n",
      "  (2281, 7244)\t0.3063807994016574\n",
      "  (2281, 4617)\t0.15835653065878572\n",
      "  (2281, 4555)\t0.2933746055724944\n",
      "  (2281, 3895)\t0.2386559349401448\n",
      "  (2281, 3133)\t0.34643953990746534\n",
      "  (2281, 2882)\t0.36299942686025594\n",
      "  (2281, 2491)\t0.36299942686025594\n",
      "  (2282, 11547)\t0.7670796221659006\n",
      "  (2282, 8159)\t0.25763000513248047\n",
      "  (2282, 7304)\t0.21975404750638514\n",
      "  (2282, 4192)\t0.21100649002293898\n",
      "  (2282, 4031)\t0.3835398110829503\n",
      "  (2282, 382)\t0.18050549288805692\n",
      "  (2282, 342)\t0.26965725252199735\n",
      "  (2283, 12649)\t0.3125129103530675\n",
      "  (2283, 10858)\t0.43256450662946716\n",
      "  (2283, 9243)\t0.41133270423130963\n",
      "  (2283, 7147)\t0.39290650730209786\n",
      "  (2283, 5492)\t0.10114068786681182\n",
      "  (2283, 4866)\t0.4231679121123555\n",
      "  (2283, 3773)\t0.3077428751825181\n",
      "  (2283, 2830)\t0.3125129103530675\n",
      "  (2283, 2119)\t0.0999149361699058\n"
     ]
    }
   ],
   "source": [
    "print(xtest_tfidf)"
   ]
  },
  {
   "cell_type": "markdown",
   "metadata": {},
   "source": [
    "# Model Building on Train data:"
   ]
  },
  {
   "cell_type": "code",
   "execution_count": 45,
   "metadata": {
    "execution": {
     "iopub.execute_input": "2023-06-29T13:45:32.346729Z",
     "iopub.status.busy": "2023-06-29T13:45:32.346280Z",
     "iopub.status.idle": "2023-06-29T13:45:32.360708Z",
     "shell.execute_reply": "2023-06-29T13:45:32.358985Z",
     "shell.execute_reply.started": "2023-06-29T13:45:32.346695Z"
    }
   },
   "outputs": [],
   "source": [
    "from sklearn.linear_model import LogisticRegression\n",
    "from sklearn.tree import DecisionTreeClassifier\n",
    "from sklearn.ensemble import RandomForestClassifier,AdaBoostClassifier,GradientBoostingClassifier\n",
    "from sklearn.svm import SVC\n",
    "from xgboost import XGBClassifier\n",
    "from sklearn.metrics import accuracy_score,precision_score,recall_score\n",
    "from sklearn.metrics import f1_score,classification_report,cohen_kappa_score,roc_auc_score,roc_curve\n"
   ]
  },
  {
   "cell_type": "markdown",
   "metadata": {},
   "source": [
    "### Metrices:"
   ]
  },
  {
   "cell_type": "code",
   "execution_count": 46,
   "metadata": {
    "execution": {
     "iopub.execute_input": "2023-06-29T13:45:32.363326Z",
     "iopub.status.busy": "2023-06-29T13:45:32.362668Z",
     "iopub.status.idle": "2023-06-29T13:45:32.375542Z",
     "shell.execute_reply": "2023-06-29T13:45:32.373650Z",
     "shell.execute_reply.started": "2023-06-29T13:45:32.363290Z"
    }
   },
   "outputs": [],
   "source": [
    "def metrices(name,key,arg):\n",
    "    print('Name of the model :',name)\n",
    "    print('Precision score :',precision_score(key,arg))    \n",
    "    print('Recall score :',recall_score(key,arg)) \n",
    "    print('Accuracy :', accuracy_score(key,arg))\n",
    "    print('F1-Score :', f1_score(key,arg))\n",
    "    print('Weighted F1-Score', f1_score(key,arg,average='weighted'))\n",
    "    print('Classification report','\\n',classification_report(key,arg))\n",
    "    print('Cohen Kappa Score :', cohen_kappa_score(key,arg))"
   ]
  },
  {
   "cell_type": "markdown",
   "metadata": {},
   "source": [
    "## 1.Logistic Regression:"
   ]
  },
  {
   "cell_type": "code",
   "execution_count": 47,
   "metadata": {
    "execution": {
     "iopub.execute_input": "2023-06-29T13:45:32.378078Z",
     "iopub.status.busy": "2023-06-29T13:45:32.377435Z",
     "iopub.status.idle": "2023-06-29T13:45:32.731359Z",
     "shell.execute_reply": "2023-06-29T13:45:32.729312Z",
     "shell.execute_reply.started": "2023-06-29T13:45:32.378010Z"
    }
   },
   "outputs": [
    {
     "data": {
      "text/plain": [
       "array([1, 0, 1, ..., 0, 0, 1], dtype=int64)"
      ]
     },
     "execution_count": 47,
     "metadata": {},
     "output_type": "execute_result"
    }
   ],
   "source": [
    "lr = LogisticRegression(random_state=100)\n",
    "lr.fit(xtrain_tfidf,ytrain)\n",
    "lr_pred = lr.predict(xtest_tfidf)\n",
    "lr_pred"
   ]
  },
  {
   "cell_type": "code",
   "execution_count": 48,
   "metadata": {
    "execution": {
     "iopub.execute_input": "2023-06-29T13:45:32.736336Z",
     "iopub.status.busy": "2023-06-29T13:45:32.734318Z",
     "iopub.status.idle": "2023-06-29T13:45:32.843495Z",
     "shell.execute_reply": "2023-06-29T13:45:32.842492Z",
     "shell.execute_reply.started": "2023-06-29T13:45:32.736241Z"
    }
   },
   "outputs": [
    {
     "name": "stdout",
     "output_type": "stream",
     "text": [
      "Name of the model : Logistic Regression\n",
      "Precision score : 0.7921146953405018\n",
      "Recall score : 0.6891891891891891\n",
      "Accuracy : 0.792907180385289\n",
      "F1-Score : 0.7370761534185659\n",
      "Weighted F1-Score 0.7903868198324394\n",
      "Classification report \n",
      "               precision    recall  f1-score   support\n",
      "\n",
      "           0       0.79      0.87      0.83      1322\n",
      "           1       0.79      0.69      0.74       962\n",
      "\n",
      "    accuracy                           0.79      2284\n",
      "   macro avg       0.79      0.78      0.78      2284\n",
      "weighted avg       0.79      0.79      0.79      2284\n",
      "\n",
      "Cohen Kappa Score : 0.5676126103049476\n"
     ]
    }
   ],
   "source": [
    "metrices('Logistic Regression',ytest,lr_pred)"
   ]
  },
  {
   "cell_type": "code",
   "execution_count": 49,
   "metadata": {
    "execution": {
     "iopub.execute_input": "2023-06-29T13:45:32.845774Z",
     "iopub.status.busy": "2023-06-29T13:45:32.844815Z",
     "iopub.status.idle": "2023-06-29T13:45:32.856025Z",
     "shell.execute_reply": "2023-06-29T13:45:32.854863Z",
     "shell.execute_reply.started": "2023-06-29T13:45:32.845735Z"
    }
   },
   "outputs": [
    {
     "data": {
      "text/plain": [
       "79.291"
      ]
     },
     "execution_count": 49,
     "metadata": {},
     "output_type": "execute_result"
    }
   ],
   "source": [
    "a1=round(accuracy_score(ytest,lr_pred)*100,3)\n",
    "a1"
   ]
  },
  {
   "cell_type": "markdown",
   "metadata": {},
   "source": [
    "## 2.Decision Tree Classifier:"
   ]
  },
  {
   "cell_type": "code",
   "execution_count": 50,
   "metadata": {
    "execution": {
     "iopub.execute_input": "2023-06-29T13:45:32.859440Z",
     "iopub.status.busy": "2023-06-29T13:45:32.858593Z",
     "iopub.status.idle": "2023-06-29T13:45:34.411963Z",
     "shell.execute_reply": "2023-06-29T13:45:34.410544Z",
     "shell.execute_reply.started": "2023-06-29T13:45:32.859397Z"
    }
   },
   "outputs": [
    {
     "data": {
      "text/plain": [
       "array([1, 0, 1, ..., 0, 0, 1], dtype=int64)"
      ]
     },
     "execution_count": 50,
     "metadata": {},
     "output_type": "execute_result"
    }
   ],
   "source": [
    "dt = DecisionTreeClassifier(random_state=100)\n",
    "dt.fit(xtrain_tfidf,ytrain)\n",
    "dt_pred = dt.predict(xtest_tfidf)\n",
    "dt_pred"
   ]
  },
  {
   "cell_type": "code",
   "execution_count": 51,
   "metadata": {
    "execution": {
     "iopub.execute_input": "2023-06-29T13:45:34.413930Z",
     "iopub.status.busy": "2023-06-29T13:45:34.413567Z",
     "iopub.status.idle": "2023-06-29T13:45:34.446538Z",
     "shell.execute_reply": "2023-06-29T13:45:34.445379Z",
     "shell.execute_reply.started": "2023-06-29T13:45:34.413899Z"
    }
   },
   "outputs": [
    {
     "name": "stdout",
     "output_type": "stream",
     "text": [
      "Name of the model : Decision Tree Classifier\n",
      "Precision score : 0.6381443298969072\n",
      "Recall score : 0.6434511434511434\n",
      "Accuracy : 0.6961471103327496\n",
      "F1-Score : 0.6407867494824017\n",
      "Weighted F1-Score 0.6963151235675002\n",
      "Classification report \n",
      "               precision    recall  f1-score   support\n",
      "\n",
      "           0       0.74      0.73      0.74      1322\n",
      "           1       0.64      0.64      0.64       962\n",
      "\n",
      "    accuracy                           0.70      2284\n",
      "   macro avg       0.69      0.69      0.69      2284\n",
      "weighted avg       0.70      0.70      0.70      2284\n",
      "\n",
      "Cohen Kappa Score : 0.37751687867772965\n"
     ]
    }
   ],
   "source": [
    "metrices('Decision Tree Classifier',ytest,dt_pred)"
   ]
  },
  {
   "cell_type": "code",
   "execution_count": 52,
   "metadata": {
    "execution": {
     "iopub.execute_input": "2023-06-29T13:45:34.448614Z",
     "iopub.status.busy": "2023-06-29T13:45:34.448261Z",
     "iopub.status.idle": "2023-06-29T13:45:34.459082Z",
     "shell.execute_reply": "2023-06-29T13:45:34.457454Z",
     "shell.execute_reply.started": "2023-06-29T13:45:34.448585Z"
    }
   },
   "outputs": [
    {
     "data": {
      "text/plain": [
       "69.615"
      ]
     },
     "execution_count": 52,
     "metadata": {},
     "output_type": "execute_result"
    }
   ],
   "source": [
    "a2 = round(accuracy_score(ytest,dt_pred)*100,3)\n",
    "a2"
   ]
  },
  {
   "cell_type": "markdown",
   "metadata": {},
   "source": [
    "## 3.Random Forest Classifier"
   ]
  },
  {
   "cell_type": "code",
   "execution_count": 53,
   "metadata": {
    "execution": {
     "iopub.execute_input": "2023-06-29T13:45:34.461109Z",
     "iopub.status.busy": "2023-06-29T13:45:34.460739Z",
     "iopub.status.idle": "2023-06-29T13:45:42.138724Z",
     "shell.execute_reply": "2023-06-29T13:45:42.137236Z",
     "shell.execute_reply.started": "2023-06-29T13:45:34.461078Z"
    }
   },
   "outputs": [
    {
     "data": {
      "text/plain": [
       "array([1, 0, 1, ..., 0, 0, 1], dtype=int64)"
      ]
     },
     "execution_count": 53,
     "metadata": {},
     "output_type": "execute_result"
    }
   ],
   "source": [
    "rf = RandomForestClassifier(random_state=100)\n",
    "rf.fit(xtrain_tfidf,ytrain)\n",
    "rf_pred = rf.predict(xtest_tfidf)\n",
    "rf_pred"
   ]
  },
  {
   "cell_type": "code",
   "execution_count": 54,
   "metadata": {
    "execution": {
     "iopub.execute_input": "2023-06-29T13:45:42.140656Z",
     "iopub.status.busy": "2023-06-29T13:45:42.140315Z",
     "iopub.status.idle": "2023-06-29T13:45:42.171763Z",
     "shell.execute_reply": "2023-06-29T13:45:42.170509Z",
     "shell.execute_reply.started": "2023-06-29T13:45:42.140627Z"
    }
   },
   "outputs": [
    {
     "name": "stdout",
     "output_type": "stream",
     "text": [
      "Name of the model : Random Forest classifier\n",
      "Precision score : 0.849194729136164\n",
      "Recall score : 0.6029106029106029\n",
      "Accuracy : 0.7876532399299475\n",
      "F1-Score : 0.7051671732522796\n",
      "Weighted F1-Score 0.7797799547424451\n",
      "Classification report \n",
      "               precision    recall  f1-score   support\n",
      "\n",
      "           0       0.76      0.92      0.83      1322\n",
      "           1       0.85      0.60      0.71       962\n",
      "\n",
      "    accuracy                           0.79      2284\n",
      "   macro avg       0.81      0.76      0.77      2284\n",
      "weighted avg       0.80      0.79      0.78      2284\n",
      "\n",
      "Cohen Kappa Score : 0.5465820306104405\n"
     ]
    }
   ],
   "source": [
    "metrices('Random Forest classifier',ytest,rf_pred)"
   ]
  },
  {
   "cell_type": "code",
   "execution_count": 55,
   "metadata": {
    "execution": {
     "iopub.execute_input": "2023-06-29T13:45:42.173896Z",
     "iopub.status.busy": "2023-06-29T13:45:42.173551Z",
     "iopub.status.idle": "2023-06-29T13:45:42.186311Z",
     "shell.execute_reply": "2023-06-29T13:45:42.184453Z",
     "shell.execute_reply.started": "2023-06-29T13:45:42.173867Z"
    }
   },
   "outputs": [
    {
     "data": {
      "text/plain": [
       "78.765"
      ]
     },
     "execution_count": 55,
     "metadata": {},
     "output_type": "execute_result"
    }
   ],
   "source": [
    "a3 = round(accuracy_score(ytest,rf_pred)*100,3)\n",
    "a3"
   ]
  },
  {
   "cell_type": "markdown",
   "metadata": {},
   "source": [
    "## 4.Support Vector Machine(Classification):"
   ]
  },
  {
   "cell_type": "code",
   "execution_count": 56,
   "metadata": {
    "execution": {
     "iopub.execute_input": "2023-06-29T13:45:42.196564Z",
     "iopub.status.busy": "2023-06-29T13:45:42.195670Z",
     "iopub.status.idle": "2023-06-29T13:45:47.900706Z",
     "shell.execute_reply": "2023-06-29T13:45:47.899317Z",
     "shell.execute_reply.started": "2023-06-29T13:45:42.196520Z"
    }
   },
   "outputs": [
    {
     "data": {
      "text/plain": [
       "array([1, 0, 1, ..., 0, 0, 1], dtype=int64)"
      ]
     },
     "execution_count": 56,
     "metadata": {},
     "output_type": "execute_result"
    }
   ],
   "source": [
    "svc = SVC(random_state=100)\n",
    "svc.fit(xtrain_tfidf,ytrain)\n",
    "svc_pred = svc.predict(xtest_tfidf)\n",
    "svc_pred"
   ]
  },
  {
   "cell_type": "code",
   "execution_count": 57,
   "metadata": {
    "execution": {
     "iopub.execute_input": "2023-06-29T13:45:47.902883Z",
     "iopub.status.busy": "2023-06-29T13:45:47.902430Z",
     "iopub.status.idle": "2023-06-29T13:45:47.937745Z",
     "shell.execute_reply": "2023-06-29T13:45:47.936194Z",
     "shell.execute_reply.started": "2023-06-29T13:45:47.902843Z"
    }
   },
   "outputs": [
    {
     "name": "stdout",
     "output_type": "stream",
     "text": [
      "Name of the model : Support Vector classifier\n",
      "Precision score : 0.8318356867779204\n",
      "Recall score : 0.6735966735966736\n",
      "Accuracy : 0.8051663747810858\n",
      "F1-Score : 0.7443997702469844\n",
      "Weighted F1-Score 0.801232774275341\n",
      "Classification report \n",
      "               precision    recall  f1-score   support\n",
      "\n",
      "           0       0.79      0.90      0.84      1322\n",
      "           1       0.83      0.67      0.74       962\n",
      "\n",
      "    accuracy                           0.81      2284\n",
      "   macro avg       0.81      0.79      0.79      2284\n",
      "weighted avg       0.81      0.81      0.80      2284\n",
      "\n",
      "Cohen Kappa Score : 0.5897803077757615\n"
     ]
    }
   ],
   "source": [
    "metrices('Support Vector classifier',ytest,svc_pred)"
   ]
  },
  {
   "cell_type": "code",
   "execution_count": 58,
   "metadata": {
    "execution": {
     "iopub.execute_input": "2023-06-29T13:45:47.939528Z",
     "iopub.status.busy": "2023-06-29T13:45:47.939220Z",
     "iopub.status.idle": "2023-06-29T13:45:47.950847Z",
     "shell.execute_reply": "2023-06-29T13:45:47.949053Z",
     "shell.execute_reply.started": "2023-06-29T13:45:47.939501Z"
    }
   },
   "outputs": [
    {
     "data": {
      "text/plain": [
       "80.517"
      ]
     },
     "execution_count": 58,
     "metadata": {},
     "output_type": "execute_result"
    }
   ],
   "source": [
    "a4 = round(accuracy_score(ytest,svc_pred)*100,3)\n",
    "a4"
   ]
  },
  {
   "cell_type": "markdown",
   "metadata": {},
   "source": [
    "## 5. Gradient Boosting Classifier:"
   ]
  },
  {
   "cell_type": "code",
   "execution_count": 59,
   "metadata": {
    "execution": {
     "iopub.execute_input": "2023-06-29T13:45:47.953087Z",
     "iopub.status.busy": "2023-06-29T13:45:47.952686Z",
     "iopub.status.idle": "2023-06-29T13:45:51.037022Z",
     "shell.execute_reply": "2023-06-29T13:45:51.035723Z",
     "shell.execute_reply.started": "2023-06-29T13:45:47.953056Z"
    }
   },
   "outputs": [
    {
     "data": {
      "text/plain": [
       "array([1, 0, 1, ..., 0, 0, 1], dtype=int64)"
      ]
     },
     "execution_count": 59,
     "metadata": {},
     "output_type": "execute_result"
    }
   ],
   "source": [
    "gb = GradientBoostingClassifier(random_state=100)\n",
    "gb.fit(xtrain_tfidf,ytrain)\n",
    "gb_pred = gb.predict(xtest_tfidf)\n",
    "gb_pred"
   ]
  },
  {
   "cell_type": "code",
   "execution_count": 60,
   "metadata": {
    "execution": {
     "iopub.execute_input": "2023-06-29T13:45:51.038864Z",
     "iopub.status.busy": "2023-06-29T13:45:51.038525Z",
     "iopub.status.idle": "2023-06-29T13:45:51.074024Z",
     "shell.execute_reply": "2023-06-29T13:45:51.072380Z",
     "shell.execute_reply.started": "2023-06-29T13:45:51.038835Z"
    }
   },
   "outputs": [
    {
     "name": "stdout",
     "output_type": "stream",
     "text": [
      "Name of the model : Gradient Boosting classifier\n",
      "Precision score : 0.8423728813559322\n",
      "Recall score : 0.5166320166320166\n",
      "Accuracy : 0.7556917688266199\n",
      "F1-Score : 0.6404639175257731\n",
      "Weighted F1-Score 0.7414793150189558\n",
      "Classification report \n",
      "               precision    recall  f1-score   support\n",
      "\n",
      "           0       0.73      0.93      0.81      1322\n",
      "           1       0.84      0.52      0.64       962\n",
      "\n",
      "    accuracy                           0.76      2284\n",
      "   macro avg       0.78      0.72      0.73      2284\n",
      "weighted avg       0.77      0.76      0.74      2284\n",
      "\n",
      "Cohen Kappa Score : 0.47108741338840177\n"
     ]
    }
   ],
   "source": [
    "metrices('Gradient Boosting classifier',ytest,gb_pred)"
   ]
  },
  {
   "cell_type": "code",
   "execution_count": 61,
   "metadata": {
    "execution": {
     "iopub.execute_input": "2023-06-29T13:45:51.076082Z",
     "iopub.status.busy": "2023-06-29T13:45:51.075722Z",
     "iopub.status.idle": "2023-06-29T13:45:51.085875Z",
     "shell.execute_reply": "2023-06-29T13:45:51.085065Z",
     "shell.execute_reply.started": "2023-06-29T13:45:51.076053Z"
    }
   },
   "outputs": [
    {
     "data": {
      "text/plain": [
       "75.569"
      ]
     },
     "execution_count": 61,
     "metadata": {},
     "output_type": "execute_result"
    }
   ],
   "source": [
    "a5 = round(accuracy_score(ytest,gb_pred)*100,3)\n",
    "a5"
   ]
  },
  {
   "cell_type": "markdown",
   "metadata": {},
   "source": [
    "## 6. Ada Boosting Classifier:"
   ]
  },
  {
   "cell_type": "code",
   "execution_count": 62,
   "metadata": {
    "execution": {
     "iopub.execute_input": "2023-06-29T13:45:51.087960Z",
     "iopub.status.busy": "2023-06-29T13:45:51.087520Z",
     "iopub.status.idle": "2023-06-29T13:45:51.904038Z",
     "shell.execute_reply": "2023-06-29T13:45:51.902603Z",
     "shell.execute_reply.started": "2023-06-29T13:45:51.087928Z"
    }
   },
   "outputs": [
    {
     "data": {
      "text/plain": [
       "array([1, 0, 1, ..., 0, 0, 1], dtype=int64)"
      ]
     },
     "execution_count": 62,
     "metadata": {},
     "output_type": "execute_result"
    }
   ],
   "source": [
    "ada = AdaBoostClassifier(random_state=100)\n",
    "ada.fit(xtrain_tfidf,ytrain)\n",
    "ada_pred = ada.predict(xtest_tfidf)\n",
    "ada_pred"
   ]
  },
  {
   "cell_type": "code",
   "execution_count": 63,
   "metadata": {
    "execution": {
     "iopub.execute_input": "2023-06-29T13:45:51.906597Z",
     "iopub.status.busy": "2023-06-29T13:45:51.906182Z",
     "iopub.status.idle": "2023-06-29T13:45:51.937084Z",
     "shell.execute_reply": "2023-06-29T13:45:51.935466Z",
     "shell.execute_reply.started": "2023-06-29T13:45:51.906556Z"
    }
   },
   "outputs": [
    {
     "name": "stdout",
     "output_type": "stream",
     "text": [
      "Name of the model : Ada Boosting classifier\n",
      "Precision score : 0.7979041916167665\n",
      "Recall score : 0.5540540540540541\n",
      "Accuracy : 0.7530647985989493\n",
      "F1-Score : 0.6539877300613497\n",
      "Weighted F1-Score 0.7431503472204419\n",
      "Classification report \n",
      "               precision    recall  f1-score   support\n",
      "\n",
      "           0       0.73      0.90      0.81      1322\n",
      "           1       0.80      0.55      0.65       962\n",
      "\n",
      "    accuracy                           0.75      2284\n",
      "   macro avg       0.77      0.73      0.73      2284\n",
      "weighted avg       0.76      0.75      0.74      2284\n",
      "\n",
      "Cohen Kappa Score : 0.4715582962216658\n"
     ]
    }
   ],
   "source": [
    "metrices('Ada Boosting classifier',ytest,ada_pred)"
   ]
  },
  {
   "cell_type": "code",
   "execution_count": 64,
   "metadata": {
    "execution": {
     "iopub.execute_input": "2023-06-29T13:45:51.939210Z",
     "iopub.status.busy": "2023-06-29T13:45:51.938735Z",
     "iopub.status.idle": "2023-06-29T13:45:51.951037Z",
     "shell.execute_reply": "2023-06-29T13:45:51.949347Z",
     "shell.execute_reply.started": "2023-06-29T13:45:51.939155Z"
    }
   },
   "outputs": [
    {
     "data": {
      "text/plain": [
       "75.306"
      ]
     },
     "execution_count": 64,
     "metadata": {},
     "output_type": "execute_result"
    }
   ],
   "source": [
    "a6 = round(accuracy_score(ytest,ada_pred)*100,3)\n",
    "a6"
   ]
  },
  {
   "cell_type": "markdown",
   "metadata": {},
   "source": [
    "## 7.XG Boosting Classifier:"
   ]
  },
  {
   "cell_type": "code",
   "execution_count": 65,
   "metadata": {
    "execution": {
     "iopub.execute_input": "2023-06-29T13:45:51.953005Z",
     "iopub.status.busy": "2023-06-29T13:45:51.952690Z",
     "iopub.status.idle": "2023-06-29T13:45:53.219388Z",
     "shell.execute_reply": "2023-06-29T13:45:53.218278Z",
     "shell.execute_reply.started": "2023-06-29T13:45:51.952979Z"
    }
   },
   "outputs": [
    {
     "data": {
      "text/plain": [
       "array([1, 0, 1, ..., 0, 0, 1])"
      ]
     },
     "execution_count": 65,
     "metadata": {},
     "output_type": "execute_result"
    }
   ],
   "source": [
    "xg = XGBClassifier(random_state=100)\n",
    "xg.fit(xtrain_tfidf,ytrain)\n",
    "xg_pred = xg.predict(xtest_tfidf)\n",
    "xg_pred"
   ]
  },
  {
   "cell_type": "code",
   "execution_count": 66,
   "metadata": {
    "execution": {
     "iopub.execute_input": "2023-06-29T13:45:53.227626Z",
     "iopub.status.busy": "2023-06-29T13:45:53.224287Z",
     "iopub.status.idle": "2023-06-29T13:45:53.261942Z",
     "shell.execute_reply": "2023-06-29T13:45:53.260675Z",
     "shell.execute_reply.started": "2023-06-29T13:45:53.227537Z"
    }
   },
   "outputs": [
    {
     "name": "stdout",
     "output_type": "stream",
     "text": [
      "Name of the model : XG Boosting classifier\n",
      "Precision score : 0.826950354609929\n",
      "Recall score : 0.606029106029106\n",
      "Accuracy : 0.7806479859894921\n",
      "F1-Score : 0.6994601079784044\n",
      "Weighted F1-Score 0.7734555404021604\n",
      "Classification report \n",
      "               precision    recall  f1-score   support\n",
      "\n",
      "           0       0.76      0.91      0.83      1322\n",
      "           1       0.83      0.61      0.70       962\n",
      "\n",
      "    accuracy                           0.78      2284\n",
      "   macro avg       0.79      0.76      0.76      2284\n",
      "weighted avg       0.79      0.78      0.77      2284\n",
      "\n",
      "Cohen Kappa Score : 0.5331373867404758\n"
     ]
    }
   ],
   "source": [
    "metrices('XG Boosting classifier',ytest,xg_pred)"
   ]
  },
  {
   "cell_type": "code",
   "execution_count": 67,
   "metadata": {
    "execution": {
     "iopub.execute_input": "2023-06-29T13:45:53.264363Z",
     "iopub.status.busy": "2023-06-29T13:45:53.263750Z",
     "iopub.status.idle": "2023-06-29T13:45:53.272967Z",
     "shell.execute_reply": "2023-06-29T13:45:53.271604Z",
     "shell.execute_reply.started": "2023-06-29T13:45:53.264329Z"
    }
   },
   "outputs": [
    {
     "data": {
      "text/plain": [
       "78.065"
      ]
     },
     "execution_count": 67,
     "metadata": {},
     "output_type": "execute_result"
    }
   ],
   "source": [
    "a7 = round(accuracy_score(ytest,xg_pred)*100,3)\n",
    "a7"
   ]
  },
  {
   "cell_type": "markdown",
   "metadata": {},
   "source": [
    "## Summary of results:"
   ]
  },
  {
   "cell_type": "code",
   "execution_count": 68,
   "metadata": {
    "execution": {
     "iopub.execute_input": "2023-06-29T13:45:53.275263Z",
     "iopub.status.busy": "2023-06-29T13:45:53.274731Z",
     "iopub.status.idle": "2023-06-29T13:45:53.288315Z",
     "shell.execute_reply": "2023-06-29T13:45:53.286510Z",
     "shell.execute_reply.started": "2023-06-29T13:45:53.275213Z"
    }
   },
   "outputs": [],
   "source": [
    "data = {'Models':['Logistic Regression','Decision tree','Random Forest',\n",
    "                        'Support Vector Machine(classification)',\n",
    "                             'Gradient Boosting','Ada Boosting','XG Boosting'],\n",
    "       'Accuracy':[a1,a2,a3,a4,a5,a6,a7]}"
   ]
  },
  {
   "cell_type": "code",
   "execution_count": 69,
   "metadata": {
    "execution": {
     "iopub.execute_input": "2023-06-29T13:45:53.291484Z",
     "iopub.status.busy": "2023-06-29T13:45:53.290941Z",
     "iopub.status.idle": "2023-06-29T13:45:53.311883Z",
     "shell.execute_reply": "2023-06-29T13:45:53.310446Z",
     "shell.execute_reply.started": "2023-06-29T13:45:53.291449Z"
    }
   },
   "outputs": [
    {
     "data": {
      "text/html": [
       "<div>\n",
       "<style scoped>\n",
       "    .dataframe tbody tr th:only-of-type {\n",
       "        vertical-align: middle;\n",
       "    }\n",
       "\n",
       "    .dataframe tbody tr th {\n",
       "        vertical-align: top;\n",
       "    }\n",
       "\n",
       "    .dataframe thead th {\n",
       "        text-align: right;\n",
       "    }\n",
       "</style>\n",
       "<table border=\"1\" class=\"dataframe\">\n",
       "  <thead>\n",
       "    <tr style=\"text-align: right;\">\n",
       "      <th></th>\n",
       "      <th>Models</th>\n",
       "      <th>Accuracy</th>\n",
       "    </tr>\n",
       "  </thead>\n",
       "  <tbody>\n",
       "    <tr>\n",
       "      <th>3</th>\n",
       "      <td>Support Vector Machine(classification)</td>\n",
       "      <td>80.517</td>\n",
       "    </tr>\n",
       "    <tr>\n",
       "      <th>0</th>\n",
       "      <td>Logistic Regression</td>\n",
       "      <td>79.291</td>\n",
       "    </tr>\n",
       "    <tr>\n",
       "      <th>2</th>\n",
       "      <td>Random Forest</td>\n",
       "      <td>78.765</td>\n",
       "    </tr>\n",
       "    <tr>\n",
       "      <th>6</th>\n",
       "      <td>XG Boosting</td>\n",
       "      <td>78.065</td>\n",
       "    </tr>\n",
       "    <tr>\n",
       "      <th>4</th>\n",
       "      <td>Gradient Boosting</td>\n",
       "      <td>75.569</td>\n",
       "    </tr>\n",
       "    <tr>\n",
       "      <th>5</th>\n",
       "      <td>Ada Boosting</td>\n",
       "      <td>75.306</td>\n",
       "    </tr>\n",
       "    <tr>\n",
       "      <th>1</th>\n",
       "      <td>Decision tree</td>\n",
       "      <td>69.615</td>\n",
       "    </tr>\n",
       "  </tbody>\n",
       "</table>\n",
       "</div>"
      ],
      "text/plain": [
       "                                   Models  Accuracy\n",
       "3  Support Vector Machine(classification)    80.517\n",
       "0                     Logistic Regression    79.291\n",
       "2                           Random Forest    78.765\n",
       "6                             XG Boosting    78.065\n",
       "4                       Gradient Boosting    75.569\n",
       "5                            Ada Boosting    75.306\n",
       "1                           Decision tree    69.615"
      ]
     },
     "execution_count": 69,
     "metadata": {},
     "output_type": "execute_result"
    }
   ],
   "source": [
    "result = pd.DataFrame(data).sort_values(by = ['Accuracy'],ascending=False)\n",
    "result"
   ]
  },
  {
   "cell_type": "code",
   "execution_count": 70,
   "metadata": {
    "execution": {
     "iopub.execute_input": "2023-06-29T13:45:53.313611Z",
     "iopub.status.busy": "2023-06-29T13:45:53.313252Z",
     "iopub.status.idle": "2023-06-29T13:45:53.696838Z",
     "shell.execute_reply": "2023-06-29T13:45:53.695598Z",
     "shell.execute_reply.started": "2023-06-29T13:45:53.313581Z"
    }
   },
   "outputs": [
    {
     "data": {
      "image/png": "[encoded data removed]",
      "text/plain": [
       "<Figure size 1500x800 with 1 Axes>"
      ]
     },
     "metadata": {},
     "output_type": "display_data"
    }
   ],
   "source": [
    "sns.barplot(x=result['Accuracy'],y=result['Models'],palette='rainbow')\n",
    "plt.show()"
   ]
  },
  {
   "cell_type": "markdown",
   "metadata": {},
   "source": [
    "# Prediction on Test Dataset:"
   ]
  },
  {
   "cell_type": "code",
   "execution_count": 71,
   "metadata": {
    "execution": {
     "iopub.execute_input": "2023-06-29T13:45:53.699936Z",
     "iopub.status.busy": "2023-06-29T13:45:53.698776Z",
     "iopub.status.idle": "2023-06-29T13:45:53.710882Z",
     "shell.execute_reply": "2023-06-29T13:45:53.709626Z",
     "shell.execute_reply.started": "2023-06-29T13:45:53.699886Z"
    }
   },
   "outputs": [
    {
     "data": {
      "text/plain": [
       "0                                happen terribl car crash\n",
       "1           heard earthquak differ citi stay safe everyon\n",
       "2       forest fire spot pond gee flee across street c...\n",
       "3                          apocalyps light spokan wildfir\n",
       "4                      typhoon soudelor kill china taiwan\n",
       "                              ...                        \n",
       "3258        earthquak safeti los angel safeti fasten xrwn\n",
       "3259    storm ri wors last hurrican citi amp other har...\n",
       "3260         green line derail chicago http co utbxlcbiuy\n",
       "3261    meg issu hazard weather outlook hwo http co x ...\n",
       "3262      cityofcalgari activ municip emerg plan yycstorm\n",
       "Name: cleaned text, Length: 3263, dtype: object"
      ]
     },
     "execution_count": 71,
     "metadata": {},
     "output_type": "execute_result"
    }
   ],
   "source": [
    "test_df = test['cleaned text']\n",
    "test_df"
   ]
  },
  {
   "cell_type": "code",
   "execution_count": 72,
   "metadata": {
    "execution": {
     "iopub.execute_input": "2023-06-29T13:45:53.713250Z",
     "iopub.status.busy": "2023-06-29T13:45:53.712822Z",
     "iopub.status.idle": "2023-06-29T13:45:53.730180Z",
     "shell.execute_reply": "2023-06-29T13:45:53.728531Z",
     "shell.execute_reply.started": "2023-06-29T13:45:53.713215Z"
    }
   },
   "outputs": [
    {
     "data": {
      "text/plain": [
       "0           0\n",
       "1           2\n",
       "2           3\n",
       "3           9\n",
       "4          11\n",
       "        ...  \n",
       "3258    10861\n",
       "3259    10865\n",
       "3260    10868\n",
       "3261    10874\n",
       "3262    10875\n",
       "Name: id, Length: 3263, dtype: int64"
      ]
     },
     "execution_count": 72,
     "metadata": {},
     "output_type": "execute_result"
    }
   ],
   "source": [
    "x = test['id']\n",
    "x"
   ]
  },
  {
   "cell_type": "code",
   "execution_count": 73,
   "metadata": {
    "execution": {
     "iopub.execute_input": "2023-06-29T13:45:53.732772Z",
     "iopub.status.busy": "2023-06-29T13:45:53.732228Z",
     "iopub.status.idle": "2023-06-29T13:45:53.814321Z",
     "shell.execute_reply": "2023-06-29T13:45:53.812935Z",
     "shell.execute_reply.started": "2023-06-29T13:45:53.732709Z"
    }
   },
   "outputs": [
    {
     "name": "stdout",
     "output_type": "stream",
     "text": [
      "  (0, 12243)\t0.6379426521311179\n",
      "  (0, 5084)\t0.488235986752432\n",
      "  (0, 2405)\t0.41167725644173103\n",
      "  (0, 1687)\t0.43032154298896524\n",
      "  (1, 11750)\t0.3793625999936718\n",
      "  (1, 10858)\t0.41765354569137303\n",
      "  (1, 5185)\t0.3793625999936718\n",
      "  (1, 3792)\t0.33986035730541175\n",
      "  (1, 3374)\t0.3546517053531935\n",
      "  (1, 2942)\t0.42838425312269673\n",
      "  (1, 2006)\t0.336061881685986\n",
      "  (2, 11837)\t0.3036205103135203\n",
      "  (2, 11645)\t0.31300835893292184\n",
      "  (2, 10941)\t0.2652131029710866\n",
      "  (2, 9622)\t0.38337264844854\n",
      "  (2, 8609)\t0.34050640600898224\n",
      "  (2, 4270)\t0.27805190615109615\n",
      "  (2, 4178)\t0.38337264844854\n",
      "  (2, 4126)\t0.19590014667728683\n",
      "  (2, 1644)\t0.34050640600898224\n",
      "  (2, 89)\t0.31300835893292184\n",
      "  (3, 13792)\t0.524877601092374\n",
      "  (3, 7120)\t0.5933251150626945\n",
      "  (3, 486)\t0.6103022298069662\n",
      "  (4, 12861)\t0.4264656469006429\n",
      "  :\t:\n",
      "  (3259, 2006)\t0.22017836187748321\n",
      "  (3259, 1276)\t0.17164200724507067\n",
      "  (3259, 570)\t0.2383020644589863\n",
      "  (3259, 382)\t0.16129754093919815\n",
      "  (3260, 7147)\t0.49756061651805034\n",
      "  (3260, 5492)\t0.12808040099823995\n",
      "  (3260, 4866)\t0.5358824130631942\n",
      "  (3260, 2830)\t0.39575347685846846\n",
      "  (3260, 2119)\t0.1265281595395825\n",
      "  (3260, 1913)\t0.525574631748751\n",
      "  (3261, 13657)\t0.30489010496562163\n",
      "  (3261, 10243)\t0.4538970264719085\n",
      "  (3261, 9092)\t0.38991998013995555\n",
      "  (3261, 7690)\t0.4538970264719085\n",
      "  (3261, 6010)\t0.30090870602891073\n",
      "  (3261, 5571)\t0.3977922635913537\n",
      "  (3261, 5492)\t0.08473369388314043\n",
      "  (3261, 5139)\t0.2828215921009743\n",
      "  (3261, 2119)\t0.08370678303990839\n",
      "  (3262, 14471)\t0.4897270396288749\n",
      "  (3262, 9520)\t0.31395504139963704\n",
      "  (3262, 8184)\t0.44080927302933504\n",
      "  (3262, 3569)\t0.2797151901171878\n",
      "  (3262, 2010)\t0.4897270396288749\n",
      "  (3262, 96)\t0.38628186926321495\n"
     ]
    }
   ],
   "source": [
    "test_tfidf = tfidf_vectorizer.transform(test_df)\n",
    "print(test_tfidf)"
   ]
  },
  {
   "cell_type": "code",
   "execution_count": 74,
   "metadata": {
    "execution": {
     "iopub.execute_input": "2023-06-29T13:45:53.816970Z",
     "iopub.status.busy": "2023-06-29T13:45:53.816284Z",
     "iopub.status.idle": "2023-06-29T13:45:55.949171Z",
     "shell.execute_reply": "2023-06-29T13:45:55.947614Z",
     "shell.execute_reply.started": "2023-06-29T13:45:53.816922Z"
    }
   },
   "outputs": [
    {
     "data": {
      "text/html": [
       "<div>\n",
       "<style scoped>\n",
       "    .dataframe tbody tr th:only-of-type {\n",
       "        vertical-align: middle;\n",
       "    }\n",
       "\n",
       "    .dataframe tbody tr th {\n",
       "        vertical-align: top;\n",
       "    }\n",
       "\n",
       "    .dataframe thead th {\n",
       "        text-align: right;\n",
       "    }\n",
       "</style>\n",
       "<table border=\"1\" class=\"dataframe\">\n",
       "  <thead>\n",
       "    <tr style=\"text-align: right;\">\n",
       "      <th></th>\n",
       "      <th>target</th>\n",
       "    </tr>\n",
       "  </thead>\n",
       "  <tbody>\n",
       "    <tr>\n",
       "      <th>0</th>\n",
       "      <td>1</td>\n",
       "    </tr>\n",
       "    <tr>\n",
       "      <th>1</th>\n",
       "      <td>1</td>\n",
       "    </tr>\n",
       "    <tr>\n",
       "      <th>2</th>\n",
       "      <td>1</td>\n",
       "    </tr>\n",
       "    <tr>\n",
       "      <th>3</th>\n",
       "      <td>0</td>\n",
       "    </tr>\n",
       "    <tr>\n",
       "      <th>4</th>\n",
       "      <td>1</td>\n",
       "    </tr>\n",
       "    <tr>\n",
       "      <th>...</th>\n",
       "      <td>...</td>\n",
       "    </tr>\n",
       "    <tr>\n",
       "      <th>3258</th>\n",
       "      <td>0</td>\n",
       "    </tr>\n",
       "    <tr>\n",
       "      <th>3259</th>\n",
       "      <td>1</td>\n",
       "    </tr>\n",
       "    <tr>\n",
       "      <th>3260</th>\n",
       "      <td>1</td>\n",
       "    </tr>\n",
       "    <tr>\n",
       "      <th>3261</th>\n",
       "      <td>1</td>\n",
       "    </tr>\n",
       "    <tr>\n",
       "      <th>3262</th>\n",
       "      <td>0</td>\n",
       "    </tr>\n",
       "  </tbody>\n",
       "</table>\n",
       "<p>3263 rows × 1 columns</p>\n",
       "</div>"
      ],
      "text/plain": [
       "      target\n",
       "0          1\n",
       "1          1\n",
       "2          1\n",
       "3          0\n",
       "4          1\n",
       "...      ...\n",
       "3258       0\n",
       "3259       1\n",
       "3260       1\n",
       "3261       1\n",
       "3262       0\n",
       "\n",
       "[3263 rows x 1 columns]"
      ]
     },
     "execution_count": 74,
     "metadata": {},
     "output_type": "execute_result"
    }
   ],
   "source": [
    "test_pred = svc.predict(test_tfidf)\n",
    "test_pred = pd.DataFrame(test_pred,columns = ['target'])\n",
    "test_pred"
   ]
  },
  {
   "cell_type": "code",
   "execution_count": 75,
   "metadata": {
    "execution": {
     "iopub.execute_input": "2023-06-29T13:45:55.951476Z",
     "iopub.status.busy": "2023-06-29T13:45:55.950904Z",
     "iopub.status.idle": "2023-06-29T13:45:55.968005Z",
     "shell.execute_reply": "2023-06-29T13:45:55.966243Z",
     "shell.execute_reply.started": "2023-06-29T13:45:55.951440Z"
    }
   },
   "outputs": [
    {
     "data": {
      "text/html": [
       "<div>\n",
       "<style scoped>\n",
       "    .dataframe tbody tr th:only-of-type {\n",
       "        vertical-align: middle;\n",
       "    }\n",
       "\n",
       "    .dataframe tbody tr th {\n",
       "        vertical-align: top;\n",
       "    }\n",
       "\n",
       "    .dataframe thead th {\n",
       "        text-align: right;\n",
       "    }\n",
       "</style>\n",
       "<table border=\"1\" class=\"dataframe\">\n",
       "  <thead>\n",
       "    <tr style=\"text-align: right;\">\n",
       "      <th></th>\n",
       "      <th>id</th>\n",
       "      <th>target</th>\n",
       "    </tr>\n",
       "  </thead>\n",
       "  <tbody>\n",
       "    <tr>\n",
       "      <th>0</th>\n",
       "      <td>0</td>\n",
       "      <td>1</td>\n",
       "    </tr>\n",
       "    <tr>\n",
       "      <th>1</th>\n",
       "      <td>2</td>\n",
       "      <td>1</td>\n",
       "    </tr>\n",
       "    <tr>\n",
       "      <th>2</th>\n",
       "      <td>3</td>\n",
       "      <td>1</td>\n",
       "    </tr>\n",
       "    <tr>\n",
       "      <th>3</th>\n",
       "      <td>9</td>\n",
       "      <td>0</td>\n",
       "    </tr>\n",
       "    <tr>\n",
       "      <th>4</th>\n",
       "      <td>11</td>\n",
       "      <td>1</td>\n",
       "    </tr>\n",
       "    <tr>\n",
       "      <th>...</th>\n",
       "      <td>...</td>\n",
       "      <td>...</td>\n",
       "    </tr>\n",
       "    <tr>\n",
       "      <th>3258</th>\n",
       "      <td>10861</td>\n",
       "      <td>0</td>\n",
       "    </tr>\n",
       "    <tr>\n",
       "      <th>3259</th>\n",
       "      <td>10865</td>\n",
       "      <td>1</td>\n",
       "    </tr>\n",
       "    <tr>\n",
       "      <th>3260</th>\n",
       "      <td>10868</td>\n",
       "      <td>1</td>\n",
       "    </tr>\n",
       "    <tr>\n",
       "      <th>3261</th>\n",
       "      <td>10874</td>\n",
       "      <td>1</td>\n",
       "    </tr>\n",
       "    <tr>\n",
       "      <th>3262</th>\n",
       "      <td>10875</td>\n",
       "      <td>0</td>\n",
       "    </tr>\n",
       "  </tbody>\n",
       "</table>\n",
       "<p>3263 rows × 2 columns</p>\n",
       "</div>"
      ],
      "text/plain": [
       "         id  target\n",
       "0         0       1\n",
       "1         2       1\n",
       "2         3       1\n",
       "3         9       0\n",
       "4        11       1\n",
       "...     ...     ...\n",
       "3258  10861       0\n",
       "3259  10865       1\n",
       "3260  10868       1\n",
       "3261  10874       1\n",
       "3262  10875       0\n",
       "\n",
       "[3263 rows x 2 columns]"
      ]
     },
     "execution_count": 75,
     "metadata": {},
     "output_type": "execute_result"
    }
   ],
   "source": [
    "submission_df = pd.concat([x,test_pred],axis=1)\n",
    "submission_df"
   ]
  },
  {
   "cell_type": "markdown",
   "metadata": {},
   "source": [
    "# Submission file:"
   ]
  },
  {
   "cell_type": "code",
   "execution_count": 76,
   "metadata": {
    "execution": {
     "iopub.execute_input": "2023-06-29T13:45:55.970543Z",
     "iopub.status.busy": "2023-06-29T13:45:55.970149Z",
     "iopub.status.idle": "2023-06-29T13:45:55.989235Z",
     "shell.execute_reply": "2023-06-29T13:45:55.987618Z",
     "shell.execute_reply.started": "2023-06-29T13:45:55.970510Z"
    }
   },
   "outputs": [],
   "source": [
    "submission_df.to_csv('submission.csv',index=False)"
   ]
  },
  {
   "cell_type": "code",
   "execution_count": 77,
   "metadata": {
    "execution": {
     "iopub.execute_input": "2023-06-29T13:45:55.990780Z",
     "iopub.status.busy": "2023-06-29T13:45:55.990420Z",
     "iopub.status.idle": "2023-06-29T13:45:56.001744Z",
     "shell.execute_reply": "2023-06-29T13:45:56.000210Z",
     "shell.execute_reply.started": "2023-06-29T13:45:55.990742Z"
    }
   },
   "outputs": [
    {
     "data": {
      "text/plain": [
       "0    2140\n",
       "1    1123\n",
       "Name: target, dtype: int64"
      ]
     },
     "execution_count": 77,
     "metadata": {},
     "output_type": "execute_result"
    }
   ],
   "source": [
    "t=submission_df['target'].value_counts()\n",
    "t"
   ]
  },
  {
   "cell_type": "code",
   "execution_count": 78,
   "metadata": {
    "execution": {
     "iopub.execute_input": "2023-06-29T13:45:56.004069Z",
     "iopub.status.busy": "2023-06-29T13:45:56.003586Z",
     "iopub.status.idle": "2023-06-29T13:45:56.292431Z",
     "shell.execute_reply": "2023-06-29T13:45:56.290766Z",
     "shell.execute_reply.started": "2023-06-29T13:45:56.004029Z"
    }
   },
   "outputs": [
    {
     "data": {
      "image/png": "[encoded data removed]",
      "text/plain": [
       "<Figure size 1500x800 with 1 Axes>"
      ]
     },
     "metadata": {},
     "output_type": "display_data"
    }
   ],
   "source": [
    "sns.barplot(x=t.index,y=t)\n",
    "plt.show()"
   ]
  },
  {
   "cell_type": "code",
   "execution_count": null,
   "metadata": {},
   "outputs": [],
   "source": []
  },
  {
   "cell_type": "code",
   "execution_count": null,
   "metadata": {},
   "outputs": [],
   "source": []
  }
 ],
 "metadata": {
  "kernelspec": {
   "display_name": "Python 3 (ipykernel)",
   "language": "python",
   "name": "python3"
  },
  "language_info": {
   "codemirror_mode": {
    "name": "ipython",
    "version": 3
   },
   "file_extension": ".py",
   "mimetype": "text/x-python",
   "name": "python",
   "nbconvert_exporter": "python",
   "pygments_lexer": "ipython3",
   "version": "3.9.13"
  }
 },
 "nbformat": 4,
 "nbformat_minor": 4
}
